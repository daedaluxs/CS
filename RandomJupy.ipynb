{
 "cells": [
  {
   "cell_type": "code",
   "execution_count": 130,
   "metadata": {},
   "outputs": [],
   "source": [
    "#Taking User input / Getting the key and text\n",
    "\n",
    "# key = input()\n",
    "key = \"Monarrachy\"\n",
    "# plaintext = input()\n",
    "plaintext = \"well that was kinda silly\""
   ]
  },
  {
   "cell_type": "code",
   "execution_count": 131,
   "metadata": {},
   "outputs": [],
   "source": [
    "used=''\n",
    "letters='abcdefghiklmnopqrstuvwxyz'\n",
    "key = key.lower().replace('j','i')"
   ]
  },
  {
   "cell_type": "code",
   "execution_count": 132,
   "metadata": {},
   "outputs": [
    {
     "name": "stdout",
     "output_type": "stream",
     "text": [
      "[['m', 'o', 'n', 'a', 'r'], ['c', 'h', 'y', 'b', 'd'], ['e', 'f', 'g', 'i', 'k'], ['l', 'p', 'q', 's', 't'], ['u', 'v', 'w', 'x', 'z']]\n"
     ]
    }
   ],
   "source": [
    "#Creating the 5x5 square\n",
    "import math\n",
    "index = 0\n",
    "w,h =5 ,5\n",
    "\n",
    "square = [[0 for x in range(w)] for y in range(h)]\n",
    "#Key Letters\n",
    "for letter in key:\n",
    "    if letter not in used:\n",
    "        square[int(math.floor(index/5))][int(index%5)] = letter\n",
    "        used += letter\n",
    "        index +=1\n",
    "#Remaining Letters in Alphabet\n",
    "for letter in letters:\n",
    "    if letter not in used:\n",
    "        square[int(math.floor(index/5))][int(index%5)] = letter\n",
    "        used += letter\n",
    "        index +=1\n",
    "print(square)"
   ]
  },
  {
   "cell_type": "code",
   "execution_count": 133,
   "metadata": {},
   "outputs": [
    {
     "name": "stdout",
     "output_type": "stream",
     "text": [
      "('y', 'q')\n"
     ]
    }
   ],
   "source": [
    "def get_r_c(letter):\n",
    "    for x in range(25):\n",
    "        if square[int(math.floor(x/5))][int(x%5)] == letter:\n",
    "            return int(math.floor(x/5)),int(x%5)\n",
    "\n",
    "def wrap_check_resolve(r,c,updown,dir):\n",
    "    if updown:\n",
    "        if r == 5 and dir == 1:\n",
    "            return square[0][c]\n",
    "        if r == 0 and dir == -1:\n",
    "            return square[5][c]\n",
    "        return square[r+dir][c]\n",
    "\n",
    "    else:\n",
    "        if c == 5 and dir == 1:\n",
    "            return square[r][0]\n",
    "        if c == 0 and dir == -1:\n",
    "            return square[r][5]\n",
    "        return square[r][c+dir]\n",
    "\n",
    "    \n",
    "def identify_formation(first,second,dir):\n",
    "    first = get_r_c(first)\n",
    "    second = get_r_c(second)\n",
    "    if first[1] == second[1]:\n",
    "        return wrap_check_resolve(first[0],first[1],True,dir),wrap_check_resolve(second[0],second[1],True,dir)\n",
    "    elif first[0] == second[0]:\n",
    "        return wrap_check_resolve(first[0],first[1],False,dir),wrap_check_resolve(second[0],second[1],False,dir)\n",
    "    return square[first[0]][second[1]],square[second[0]][first[1]]\n",
    "\n",
    "#1 = Encrypt, -1 = Decrypt\n",
    "print(identify_formation('n','g',1))\n",
    "\n",
    "depth = 0\n",
    "for character in plaintext:\n",
    "    if pair_need:\n",
    "        depth +=1\n"
   ]
  },
  {
   "cell_type": "code",
   "execution_count": 134,
   "metadata": {},
   "outputs": [],
   "source": [
    "#Encrypt\n"
   ]
  }
 ],
 "metadata": {
  "kernelspec": {
   "display_name": "Python 3",
   "language": "python",
   "name": "python3"
  },
  "language_info": {
   "name": "python",
   "version": "3.10.0"
  },
  "orig_nbformat": 4
 },
 "nbformat": 4,
 "nbformat_minor": 2
}
