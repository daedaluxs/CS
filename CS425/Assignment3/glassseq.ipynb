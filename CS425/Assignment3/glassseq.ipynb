{
  "cells": [
    {
      "cell_type": "code",
      "execution_count": 86,
      "metadata": {
        "id": "osBNa7QxI-jv"
      },
      "outputs": [],
      "source": [
        "import tensorflow as tf\n",
        "from tensorflow import keras\n",
        "import matplotlib.pyplot as plt\n",
        "import numpy as np\n",
        "from keras import layers\n",
        "\n",
        "from sklearn.model_selection import train_test_split\n",
        "from sklearn.metrics import confusion_matrix, accuracy_score, recall_score, precision_score\n",
        "\n",
        "import pandas as pd #loading data in table form\n"
      ]
    },
    {
      "cell_type": "code",
      "execution_count": 87,
      "metadata": {},
      "outputs": [],
      "source": [
        "url = \"https://archive.ics.uci.edu/static/public/42/data.csv\"\n",
        "dataset = pd.read_csv(url)"
      ]
    },
    {
      "cell_type": "code",
      "execution_count": 88,
      "metadata": {},
      "outputs": [
        {
          "data": {
            "text/html": [
              "<div>\n",
              "<style scoped>\n",
              "    .dataframe tbody tr th:only-of-type {\n",
              "        vertical-align: middle;\n",
              "    }\n",
              "\n",
              "    .dataframe tbody tr th {\n",
              "        vertical-align: top;\n",
              "    }\n",
              "\n",
              "    .dataframe thead th {\n",
              "        text-align: right;\n",
              "    }\n",
              "</style>\n",
              "<table border=\"1\" class=\"dataframe\">\n",
              "  <thead>\n",
              "    <tr style=\"text-align: right;\">\n",
              "      <th></th>\n",
              "      <th>Id_number</th>\n",
              "      <th>RI</th>\n",
              "      <th>Na</th>\n",
              "      <th>Mg</th>\n",
              "      <th>Al</th>\n",
              "      <th>Si</th>\n",
              "      <th>K</th>\n",
              "      <th>Ca</th>\n",
              "      <th>Ba</th>\n",
              "      <th>Fe</th>\n",
              "      <th>Type_of_glass</th>\n",
              "    </tr>\n",
              "  </thead>\n",
              "  <tbody>\n",
              "    <tr>\n",
              "      <th>0</th>\n",
              "      <td>1</td>\n",
              "      <td>1.52101</td>\n",
              "      <td>13.64</td>\n",
              "      <td>4.49</td>\n",
              "      <td>1.10</td>\n",
              "      <td>71.78</td>\n",
              "      <td>0.06</td>\n",
              "      <td>8.75</td>\n",
              "      <td>0.00</td>\n",
              "      <td>0.0</td>\n",
              "      <td>1</td>\n",
              "    </tr>\n",
              "    <tr>\n",
              "      <th>1</th>\n",
              "      <td>2</td>\n",
              "      <td>1.51761</td>\n",
              "      <td>13.89</td>\n",
              "      <td>3.60</td>\n",
              "      <td>1.36</td>\n",
              "      <td>72.73</td>\n",
              "      <td>0.48</td>\n",
              "      <td>7.83</td>\n",
              "      <td>0.00</td>\n",
              "      <td>0.0</td>\n",
              "      <td>1</td>\n",
              "    </tr>\n",
              "    <tr>\n",
              "      <th>2</th>\n",
              "      <td>3</td>\n",
              "      <td>1.51618</td>\n",
              "      <td>13.53</td>\n",
              "      <td>3.55</td>\n",
              "      <td>1.54</td>\n",
              "      <td>72.99</td>\n",
              "      <td>0.39</td>\n",
              "      <td>7.78</td>\n",
              "      <td>0.00</td>\n",
              "      <td>0.0</td>\n",
              "      <td>1</td>\n",
              "    </tr>\n",
              "    <tr>\n",
              "      <th>3</th>\n",
              "      <td>4</td>\n",
              "      <td>1.51766</td>\n",
              "      <td>13.21</td>\n",
              "      <td>3.69</td>\n",
              "      <td>1.29</td>\n",
              "      <td>72.61</td>\n",
              "      <td>0.57</td>\n",
              "      <td>8.22</td>\n",
              "      <td>0.00</td>\n",
              "      <td>0.0</td>\n",
              "      <td>1</td>\n",
              "    </tr>\n",
              "    <tr>\n",
              "      <th>4</th>\n",
              "      <td>5</td>\n",
              "      <td>1.51742</td>\n",
              "      <td>13.27</td>\n",
              "      <td>3.62</td>\n",
              "      <td>1.24</td>\n",
              "      <td>73.08</td>\n",
              "      <td>0.55</td>\n",
              "      <td>8.07</td>\n",
              "      <td>0.00</td>\n",
              "      <td>0.0</td>\n",
              "      <td>1</td>\n",
              "    </tr>\n",
              "    <tr>\n",
              "      <th>...</th>\n",
              "      <td>...</td>\n",
              "      <td>...</td>\n",
              "      <td>...</td>\n",
              "      <td>...</td>\n",
              "      <td>...</td>\n",
              "      <td>...</td>\n",
              "      <td>...</td>\n",
              "      <td>...</td>\n",
              "      <td>...</td>\n",
              "      <td>...</td>\n",
              "      <td>...</td>\n",
              "    </tr>\n",
              "    <tr>\n",
              "      <th>209</th>\n",
              "      <td>210</td>\n",
              "      <td>1.51623</td>\n",
              "      <td>14.14</td>\n",
              "      <td>0.00</td>\n",
              "      <td>2.88</td>\n",
              "      <td>72.61</td>\n",
              "      <td>0.08</td>\n",
              "      <td>9.18</td>\n",
              "      <td>1.06</td>\n",
              "      <td>0.0</td>\n",
              "      <td>7</td>\n",
              "    </tr>\n",
              "    <tr>\n",
              "      <th>210</th>\n",
              "      <td>211</td>\n",
              "      <td>1.51685</td>\n",
              "      <td>14.92</td>\n",
              "      <td>0.00</td>\n",
              "      <td>1.99</td>\n",
              "      <td>73.06</td>\n",
              "      <td>0.00</td>\n",
              "      <td>8.40</td>\n",
              "      <td>1.59</td>\n",
              "      <td>0.0</td>\n",
              "      <td>7</td>\n",
              "    </tr>\n",
              "    <tr>\n",
              "      <th>211</th>\n",
              "      <td>212</td>\n",
              "      <td>1.52065</td>\n",
              "      <td>14.36</td>\n",
              "      <td>0.00</td>\n",
              "      <td>2.02</td>\n",
              "      <td>73.42</td>\n",
              "      <td>0.00</td>\n",
              "      <td>8.44</td>\n",
              "      <td>1.64</td>\n",
              "      <td>0.0</td>\n",
              "      <td>7</td>\n",
              "    </tr>\n",
              "    <tr>\n",
              "      <th>212</th>\n",
              "      <td>213</td>\n",
              "      <td>1.51651</td>\n",
              "      <td>14.38</td>\n",
              "      <td>0.00</td>\n",
              "      <td>1.94</td>\n",
              "      <td>73.61</td>\n",
              "      <td>0.00</td>\n",
              "      <td>8.48</td>\n",
              "      <td>1.57</td>\n",
              "      <td>0.0</td>\n",
              "      <td>7</td>\n",
              "    </tr>\n",
              "    <tr>\n",
              "      <th>213</th>\n",
              "      <td>214</td>\n",
              "      <td>1.51711</td>\n",
              "      <td>14.23</td>\n",
              "      <td>0.00</td>\n",
              "      <td>2.08</td>\n",
              "      <td>73.36</td>\n",
              "      <td>0.00</td>\n",
              "      <td>8.62</td>\n",
              "      <td>1.67</td>\n",
              "      <td>0.0</td>\n",
              "      <td>7</td>\n",
              "    </tr>\n",
              "  </tbody>\n",
              "</table>\n",
              "<p>214 rows × 11 columns</p>\n",
              "</div>"
            ],
            "text/plain": [
              "     Id_number       RI     Na    Mg    Al     Si     K    Ca    Ba   Fe  \\\n",
              "0            1  1.52101  13.64  4.49  1.10  71.78  0.06  8.75  0.00  0.0   \n",
              "1            2  1.51761  13.89  3.60  1.36  72.73  0.48  7.83  0.00  0.0   \n",
              "2            3  1.51618  13.53  3.55  1.54  72.99  0.39  7.78  0.00  0.0   \n",
              "3            4  1.51766  13.21  3.69  1.29  72.61  0.57  8.22  0.00  0.0   \n",
              "4            5  1.51742  13.27  3.62  1.24  73.08  0.55  8.07  0.00  0.0   \n",
              "..         ...      ...    ...   ...   ...    ...   ...   ...   ...  ...   \n",
              "209        210  1.51623  14.14  0.00  2.88  72.61  0.08  9.18  1.06  0.0   \n",
              "210        211  1.51685  14.92  0.00  1.99  73.06  0.00  8.40  1.59  0.0   \n",
              "211        212  1.52065  14.36  0.00  2.02  73.42  0.00  8.44  1.64  0.0   \n",
              "212        213  1.51651  14.38  0.00  1.94  73.61  0.00  8.48  1.57  0.0   \n",
              "213        214  1.51711  14.23  0.00  2.08  73.36  0.00  8.62  1.67  0.0   \n",
              "\n",
              "     Type_of_glass  \n",
              "0                1  \n",
              "1                1  \n",
              "2                1  \n",
              "3                1  \n",
              "4                1  \n",
              "..             ...  \n",
              "209              7  \n",
              "210              7  \n",
              "211              7  \n",
              "212              7  \n",
              "213              7  \n",
              "\n",
              "[214 rows x 11 columns]"
            ]
          },
          "execution_count": 88,
          "metadata": {},
          "output_type": "execute_result"
        }
      ],
      "source": [
        "dataset"
      ]
    },
    {
      "cell_type": "code",
      "execution_count": 89,
      "metadata": {
        "colab": {
          "base_uri": "https://localhost:8080/"
        },
        "id": "eyOt9zuVLtfL",
        "outputId": "ef51af64-b575-4f2d-fdac-4821ac3efe97"
      },
      "outputs": [
        {
          "name": "stdout",
          "output_type": "stream",
          "text": [
            "[1 2 3 5 6 7]\n",
            "[0 1 2 3 4 5]\n"
          ]
        }
      ],
      "source": [
        "\n",
        "print(dataset[\"Type_of_glass\"].unique())\n",
        "class_mapping = {1: 0, 2: 1, 3: 2, 5: 3, 6: 4, 7: 5}\n",
        "dataset[\"Type_of_glass\"].replace(class_mapping, inplace=True)\n",
        "print(dataset[\"Type_of_glass\"].unique())"
      ]
    },
    {
      "cell_type": "code",
      "execution_count": 90,
      "metadata": {
        "colab": {
          "base_uri": "https://localhost:8080/"
        },
        "id": "MwcYnbj8JEUv",
        "outputId": "20472bc7-1015-4db7-ed2f-2ae1d85e0aaf"
      },
      "outputs": [
        {
          "name": "stdout",
          "output_type": "stream",
          "text": [
            "(214, 9)\n",
            "(214,)\n"
          ]
        }
      ],
      "source": [
        "X = dataset.drop(columns=['Id_number','Type_of_glass'])\n",
        "Y = dataset['Type_of_glass']\n",
        "print(X.shape)\n",
        "print(Y.shape)"
      ]
    },
    {
      "cell_type": "code",
      "execution_count": 91,
      "metadata": {
        "id": "QVM5JiDzJGjx"
      },
      "outputs": [],
      "source": [
        "# split into train test sets\n",
        "X_train, X_test, y_train, y_test = train_test_split(X, Y, test_size=0.30)"
      ]
    },
    {
      "cell_type": "code",
      "execution_count": 92,
      "metadata": {
        "colab": {
          "base_uri": "https://localhost:8080/"
        },
        "id": "kA_vZ3pyJI89",
        "outputId": "79d69e37-f2f7-4522-b3b9-252c3b6368f0"
      },
      "outputs": [
        {
          "name": "stdout",
          "output_type": "stream",
          "text": [
            "1341\n",
            "585\n"
          ]
        }
      ],
      "source": [
        "print(np.size(X_train))\n",
        "print(np.size(X_test))"
      ]
    },
    {
      "cell_type": "markdown",
      "metadata": {
        "id": "X27iNi63X4o8"
      },
      "source": [
        "# One-hot encoding"
      ]
    },
    {
      "cell_type": "code",
      "execution_count": 93,
      "metadata": {
        "colab": {
          "base_uri": "https://localhost:8080/"
        },
        "id": "2RA-xs-uNDbN",
        "outputId": "3536d871-f0b2-4a2c-c7c8-523b64dd8468"
      },
      "outputs": [
        {
          "name": "stdout",
          "output_type": "stream",
          "text": [
            "Shape of y_train (149, 6)\n",
            "Shape of y_test (65, 6)\n",
            "float32\n"
          ]
        }
      ],
      "source": [
        "y_train_c=keras.utils.to_categorical(y_train, num_classes=6)\n",
        "y_test_c=keras.utils.to_categorical(y_test, num_classes=6)\n",
        "print(\"Shape of y_train\",y_train_c.shape)\n",
        "print(\"Shape of y_test\",y_test_c.shape)\n",
        "print(y_train_c.dtype)"
      ]
    },
    {
      "cell_type": "code",
      "execution_count": 107,
      "metadata": {
        "id": "Pq7G2VUGJLOB"
      },
      "outputs": [],
      "source": [
        "model = keras.Sequential(\n",
        "    [\n",
        "        layers.Dense(160, input_dim = 9, activation=\"relu\"),\n",
        "        layers.Dense(150, activation=\"relu\"),\n",
        "        layers.Dense(140, activation=\"relu\"),\n",
        "        layers.Dense(130, activation=\"relu\"),\n",
        "        layers.Dense(120, activation=\"relu\"),\n",
        "        layers.Dense(6, activation=\"softmax\"),\n",
        "    ]\n",
        ")\n",
        "\n",
        "model.compile(loss='categorical_crossentropy', optimizer='adam', metrics=['accuracy'])"
      ]
    },
    {
      "cell_type": "code",
      "execution_count": 108,
      "metadata": {
        "colab": {
          "base_uri": "https://localhost:8080/"
        },
        "id": "AxgsTAbrJNZ4",
        "outputId": "829a1094-2490-47c2-d28d-a253b3dc01f5"
      },
      "outputs": [
        {
          "name": "stdout",
          "output_type": "stream",
          "text": [
            "Model: \"sequential_13\"\n",
            "_________________________________________________________________\n",
            " Layer (type)                Output Shape              Param #   \n",
            "=================================================================\n",
            " dense_80 (Dense)            (None, 160)               1600      \n",
            "                                                                 \n",
            " dense_81 (Dense)            (None, 150)               24150     \n",
            "                                                                 \n",
            " dense_82 (Dense)            (None, 140)               21140     \n",
            "                                                                 \n",
            " dense_83 (Dense)            (None, 130)               18330     \n",
            "                                                                 \n",
            " dense_84 (Dense)            (None, 120)               15720     \n",
            "                                                                 \n",
            " dense_85 (Dense)            (None, 6)                 726       \n",
            "                                                                 \n",
            "=================================================================\n",
            "Total params: 81666 (319.01 KB)\n",
            "Trainable params: 81666 (319.01 KB)\n",
            "Non-trainable params: 0 (0.00 Byte)\n",
            "_________________________________________________________________\n",
            "None\n"
          ]
        }
      ],
      "source": [
        "print(model.summary())"
      ]
    },
    {
      "cell_type": "code",
      "execution_count": 112,
      "metadata": {
        "colab": {
          "base_uri": "https://localhost:8080/"
        },
        "id": "qsSo4wkpJP9B",
        "outputId": "6b28913c-5845-4e17-9d1a-21cc501ed9e7"
      },
      "outputs": [
        {
          "name": "stdout",
          "output_type": "stream",
          "text": [
            "Epoch 1/100\n",
            "6/6 [==============================] - 0s 9ms/step - loss: 0.6220 - accuracy: 0.7212 - val_loss: 1.4104 - val_accuracy: 0.4889\n",
            "Epoch 2/100\n",
            "6/6 [==============================] - 0s 4ms/step - loss: 0.7361 - accuracy: 0.7019 - val_loss: 1.2265 - val_accuracy: 0.6222\n",
            "Epoch 3/100\n",
            "6/6 [==============================] - 0s 4ms/step - loss: 0.8947 - accuracy: 0.5962 - val_loss: 1.2953 - val_accuracy: 0.5111\n",
            "Epoch 4/100\n",
            "6/6 [==============================] - 0s 4ms/step - loss: 0.7520 - accuracy: 0.6250 - val_loss: 1.1791 - val_accuracy: 0.5111\n",
            "Epoch 5/100\n",
            "6/6 [==============================] - 0s 4ms/step - loss: 0.7937 - accuracy: 0.6346 - val_loss: 1.2028 - val_accuracy: 0.5111\n",
            "Epoch 6/100\n",
            "6/6 [==============================] - 0s 4ms/step - loss: 0.7228 - accuracy: 0.6635 - val_loss: 1.2381 - val_accuracy: 0.4889\n",
            "Epoch 7/100\n",
            "6/6 [==============================] - 0s 4ms/step - loss: 0.7085 - accuracy: 0.6731 - val_loss: 1.0789 - val_accuracy: 0.5333\n",
            "Epoch 8/100\n",
            "6/6 [==============================] - 0s 4ms/step - loss: 0.6914 - accuracy: 0.6538 - val_loss: 1.1702 - val_accuracy: 0.5111\n",
            "Epoch 9/100\n",
            "6/6 [==============================] - 0s 4ms/step - loss: 0.6289 - accuracy: 0.6731 - val_loss: 1.2436 - val_accuracy: 0.5111\n",
            "Epoch 10/100\n",
            "6/6 [==============================] - 0s 5ms/step - loss: 0.6220 - accuracy: 0.6731 - val_loss: 1.2414 - val_accuracy: 0.5333\n",
            "Epoch 11/100\n",
            "6/6 [==============================] - 0s 4ms/step - loss: 0.6041 - accuracy: 0.6923 - val_loss: 1.2229 - val_accuracy: 0.6667\n",
            "Epoch 12/100\n",
            "6/6 [==============================] - 0s 4ms/step - loss: 0.5987 - accuracy: 0.7115 - val_loss: 1.3413 - val_accuracy: 0.5111\n",
            "Epoch 13/100\n",
            "6/6 [==============================] - 0s 3ms/step - loss: 0.6021 - accuracy: 0.7019 - val_loss: 1.4474 - val_accuracy: 0.5111\n",
            "Epoch 14/100\n",
            "6/6 [==============================] - 0s 4ms/step - loss: 0.6920 - accuracy: 0.6538 - val_loss: 1.2035 - val_accuracy: 0.5556\n",
            "Epoch 15/100\n",
            "6/6 [==============================] - 0s 4ms/step - loss: 0.6242 - accuracy: 0.7212 - val_loss: 1.3402 - val_accuracy: 0.4889\n",
            "Epoch 16/100\n",
            "6/6 [==============================] - 0s 4ms/step - loss: 0.6251 - accuracy: 0.6827 - val_loss: 1.2638 - val_accuracy: 0.5333\n",
            "Epoch 17/100\n",
            "6/6 [==============================] - 0s 4ms/step - loss: 0.7558 - accuracy: 0.6731 - val_loss: 1.2049 - val_accuracy: 0.6889\n",
            "Epoch 18/100\n",
            "6/6 [==============================] - 0s 4ms/step - loss: 0.6748 - accuracy: 0.6731 - val_loss: 1.1864 - val_accuracy: 0.5556\n",
            "Epoch 19/100\n",
            "6/6 [==============================] - 0s 4ms/step - loss: 0.9481 - accuracy: 0.5865 - val_loss: 1.4814 - val_accuracy: 0.4667\n",
            "Epoch 20/100\n",
            "6/6 [==============================] - 0s 4ms/step - loss: 0.8351 - accuracy: 0.6442 - val_loss: 1.3849 - val_accuracy: 0.6444\n",
            "Epoch 21/100\n",
            "6/6 [==============================] - 0s 4ms/step - loss: 0.7894 - accuracy: 0.6538 - val_loss: 1.1866 - val_accuracy: 0.6667\n",
            "Epoch 22/100\n",
            "6/6 [==============================] - 0s 4ms/step - loss: 0.9289 - accuracy: 0.5673 - val_loss: 1.3403 - val_accuracy: 0.5111\n",
            "Epoch 23/100\n",
            "6/6 [==============================] - 0s 4ms/step - loss: 0.6953 - accuracy: 0.6731 - val_loss: 1.5562 - val_accuracy: 0.5333\n",
            "Epoch 24/100\n",
            "6/6 [==============================] - 0s 4ms/step - loss: 0.7043 - accuracy: 0.7115 - val_loss: 1.1852 - val_accuracy: 0.5556\n",
            "Epoch 25/100\n",
            "6/6 [==============================] - 0s 4ms/step - loss: 0.7542 - accuracy: 0.6731 - val_loss: 1.2219 - val_accuracy: 0.5778\n",
            "Epoch 26/100\n",
            "6/6 [==============================] - 0s 4ms/step - loss: 0.6924 - accuracy: 0.6923 - val_loss: 1.3154 - val_accuracy: 0.6444\n",
            "Epoch 27/100\n",
            "6/6 [==============================] - 0s 4ms/step - loss: 0.6544 - accuracy: 0.6538 - val_loss: 1.5079 - val_accuracy: 0.5111\n",
            "Epoch 28/100\n",
            "6/6 [==============================] - 0s 4ms/step - loss: 0.6347 - accuracy: 0.7019 - val_loss: 1.2253 - val_accuracy: 0.6444\n",
            "Epoch 29/100\n",
            "6/6 [==============================] - 0s 4ms/step - loss: 0.6568 - accuracy: 0.6731 - val_loss: 1.2773 - val_accuracy: 0.5333\n",
            "Epoch 30/100\n",
            "6/6 [==============================] - 0s 4ms/step - loss: 0.6227 - accuracy: 0.7019 - val_loss: 1.4391 - val_accuracy: 0.5111\n",
            "Epoch 31/100\n",
            "6/6 [==============================] - 0s 4ms/step - loss: 0.6450 - accuracy: 0.6923 - val_loss: 1.2039 - val_accuracy: 0.6222\n",
            "Epoch 32/100\n",
            "6/6 [==============================] - 0s 4ms/step - loss: 0.6320 - accuracy: 0.6827 - val_loss: 1.6364 - val_accuracy: 0.4667\n",
            "Epoch 33/100\n",
            "6/6 [==============================] - 0s 4ms/step - loss: 0.6795 - accuracy: 0.6827 - val_loss: 1.3214 - val_accuracy: 0.5333\n",
            "Epoch 34/100\n",
            "6/6 [==============================] - 0s 4ms/step - loss: 0.6404 - accuracy: 0.7115 - val_loss: 1.2647 - val_accuracy: 0.6222\n",
            "Epoch 35/100\n",
            "6/6 [==============================] - 0s 4ms/step - loss: 0.6579 - accuracy: 0.7212 - val_loss: 1.5251 - val_accuracy: 0.4889\n",
            "Epoch 36/100\n",
            "6/6 [==============================] - 0s 4ms/step - loss: 0.7243 - accuracy: 0.6827 - val_loss: 1.2731 - val_accuracy: 0.6222\n",
            "Epoch 37/100\n",
            "6/6 [==============================] - 0s 4ms/step - loss: 0.7062 - accuracy: 0.6250 - val_loss: 1.5707 - val_accuracy: 0.4889\n",
            "Epoch 38/100\n",
            "6/6 [==============================] - 0s 4ms/step - loss: 0.7590 - accuracy: 0.6923 - val_loss: 1.2228 - val_accuracy: 0.6667\n",
            "Epoch 39/100\n",
            "6/6 [==============================] - 0s 4ms/step - loss: 0.7598 - accuracy: 0.6442 - val_loss: 1.4679 - val_accuracy: 0.4889\n",
            "Epoch 40/100\n",
            "6/6 [==============================] - 0s 4ms/step - loss: 0.6522 - accuracy: 0.6442 - val_loss: 1.3498 - val_accuracy: 0.4889\n",
            "Epoch 41/100\n",
            "6/6 [==============================] - 0s 4ms/step - loss: 0.6280 - accuracy: 0.7115 - val_loss: 1.2649 - val_accuracy: 0.5111\n",
            "Epoch 42/100\n",
            "6/6 [==============================] - 0s 4ms/step - loss: 0.5937 - accuracy: 0.6923 - val_loss: 1.2512 - val_accuracy: 0.5111\n",
            "Epoch 43/100\n",
            "6/6 [==============================] - 0s 4ms/step - loss: 0.5879 - accuracy: 0.6827 - val_loss: 1.2349 - val_accuracy: 0.6444\n",
            "Epoch 44/100\n",
            "6/6 [==============================] - 0s 4ms/step - loss: 0.6238 - accuracy: 0.6827 - val_loss: 1.5100 - val_accuracy: 0.5111\n",
            "Epoch 45/100\n",
            "6/6 [==============================] - 0s 4ms/step - loss: 0.6289 - accuracy: 0.6538 - val_loss: 1.4176 - val_accuracy: 0.6222\n",
            "Epoch 46/100\n",
            "6/6 [==============================] - 0s 4ms/step - loss: 0.6098 - accuracy: 0.6923 - val_loss: 1.4024 - val_accuracy: 0.5333\n",
            "Epoch 47/100\n",
            "6/6 [==============================] - 0s 4ms/step - loss: 0.7039 - accuracy: 0.6538 - val_loss: 1.3491 - val_accuracy: 0.4889\n",
            "Epoch 48/100\n",
            "6/6 [==============================] - 0s 4ms/step - loss: 0.5987 - accuracy: 0.7115 - val_loss: 1.4733 - val_accuracy: 0.5333\n",
            "Epoch 49/100\n",
            "6/6 [==============================] - 0s 4ms/step - loss: 0.5864 - accuracy: 0.7019 - val_loss: 1.3471 - val_accuracy: 0.5556\n",
            "Epoch 50/100\n",
            "6/6 [==============================] - 0s 4ms/step - loss: 0.5742 - accuracy: 0.7212 - val_loss: 1.2946 - val_accuracy: 0.6444\n",
            "Epoch 51/100\n",
            "6/6 [==============================] - 0s 4ms/step - loss: 0.6293 - accuracy: 0.6827 - val_loss: 1.6880 - val_accuracy: 0.4889\n",
            "Epoch 52/100\n",
            "6/6 [==============================] - 0s 4ms/step - loss: 0.6321 - accuracy: 0.7115 - val_loss: 1.2943 - val_accuracy: 0.5556\n",
            "Epoch 53/100\n",
            "6/6 [==============================] - 0s 4ms/step - loss: 0.5998 - accuracy: 0.7019 - val_loss: 1.3947 - val_accuracy: 0.5333\n",
            "Epoch 54/100\n",
            "6/6 [==============================] - 0s 4ms/step - loss: 0.5719 - accuracy: 0.7308 - val_loss: 1.2631 - val_accuracy: 0.6222\n",
            "Epoch 55/100\n",
            "6/6 [==============================] - 0s 4ms/step - loss: 0.6707 - accuracy: 0.6538 - val_loss: 1.5099 - val_accuracy: 0.5333\n",
            "Epoch 56/100\n",
            "6/6 [==============================] - 0s 4ms/step - loss: 0.6175 - accuracy: 0.7308 - val_loss: 1.4940 - val_accuracy: 0.6444\n",
            "Epoch 57/100\n",
            "6/6 [==============================] - 0s 4ms/step - loss: 0.6594 - accuracy: 0.6635 - val_loss: 1.3477 - val_accuracy: 0.5333\n",
            "Epoch 58/100\n",
            "6/6 [==============================] - 0s 4ms/step - loss: 0.6229 - accuracy: 0.7019 - val_loss: 1.2683 - val_accuracy: 0.6667\n",
            "Epoch 59/100\n",
            "6/6 [==============================] - 0s 4ms/step - loss: 0.7109 - accuracy: 0.6731 - val_loss: 1.5955 - val_accuracy: 0.5556\n",
            "Epoch 60/100\n",
            "6/6 [==============================] - 0s 4ms/step - loss: 0.6717 - accuracy: 0.6827 - val_loss: 1.4129 - val_accuracy: 0.6000\n",
            "Epoch 61/100\n",
            "6/6 [==============================] - 0s 4ms/step - loss: 0.6386 - accuracy: 0.7115 - val_loss: 1.6656 - val_accuracy: 0.5333\n",
            "Epoch 62/100\n",
            "6/6 [==============================] - 0s 4ms/step - loss: 0.6503 - accuracy: 0.7115 - val_loss: 1.3275 - val_accuracy: 0.5111\n",
            "Epoch 63/100\n",
            "6/6 [==============================] - 0s 4ms/step - loss: 0.5999 - accuracy: 0.7019 - val_loss: 1.3593 - val_accuracy: 0.5333\n",
            "Epoch 64/100\n",
            "6/6 [==============================] - 0s 5ms/step - loss: 0.5900 - accuracy: 0.7596 - val_loss: 1.4650 - val_accuracy: 0.5556\n",
            "Epoch 65/100\n",
            "6/6 [==============================] - 0s 4ms/step - loss: 0.5896 - accuracy: 0.7019 - val_loss: 1.3025 - val_accuracy: 0.6667\n",
            "Epoch 66/100\n",
            "6/6 [==============================] - 0s 4ms/step - loss: 0.5801 - accuracy: 0.6827 - val_loss: 1.6733 - val_accuracy: 0.5111\n",
            "Epoch 67/100\n",
            "6/6 [==============================] - 0s 4ms/step - loss: 0.6761 - accuracy: 0.6827 - val_loss: 1.3214 - val_accuracy: 0.6444\n",
            "Epoch 68/100\n",
            "6/6 [==============================] - 0s 4ms/step - loss: 0.7087 - accuracy: 0.7019 - val_loss: 1.2910 - val_accuracy: 0.5778\n",
            "Epoch 69/100\n",
            "6/6 [==============================] - 0s 4ms/step - loss: 0.6310 - accuracy: 0.7115 - val_loss: 1.5199 - val_accuracy: 0.4889\n",
            "Epoch 70/100\n",
            "6/6 [==============================] - 0s 4ms/step - loss: 0.8447 - accuracy: 0.6923 - val_loss: 1.3446 - val_accuracy: 0.6222\n",
            "Epoch 71/100\n",
            "6/6 [==============================] - 0s 4ms/step - loss: 0.7188 - accuracy: 0.6346 - val_loss: 1.4106 - val_accuracy: 0.5333\n",
            "Epoch 72/100\n",
            "6/6 [==============================] - 0s 4ms/step - loss: 0.6802 - accuracy: 0.6923 - val_loss: 1.2583 - val_accuracy: 0.5556\n",
            "Epoch 73/100\n",
            "6/6 [==============================] - 0s 4ms/step - loss: 0.6285 - accuracy: 0.7212 - val_loss: 1.3057 - val_accuracy: 0.5111\n",
            "Epoch 74/100\n",
            "6/6 [==============================] - 0s 4ms/step - loss: 0.6314 - accuracy: 0.7212 - val_loss: 1.4426 - val_accuracy: 0.5111\n",
            "Epoch 75/100\n",
            "6/6 [==============================] - 0s 4ms/step - loss: 0.5702 - accuracy: 0.7212 - val_loss: 1.2148 - val_accuracy: 0.5333\n",
            "Epoch 76/100\n",
            "6/6 [==============================] - 0s 4ms/step - loss: 0.5761 - accuracy: 0.7212 - val_loss: 1.2870 - val_accuracy: 0.5333\n",
            "Epoch 77/100\n",
            "6/6 [==============================] - 0s 4ms/step - loss: 0.5548 - accuracy: 0.7788 - val_loss: 1.2360 - val_accuracy: 0.5556\n",
            "Epoch 78/100\n",
            "6/6 [==============================] - 0s 4ms/step - loss: 0.5639 - accuracy: 0.7596 - val_loss: 1.2726 - val_accuracy: 0.5556\n",
            "Epoch 79/100\n",
            "6/6 [==============================] - 0s 4ms/step - loss: 0.6071 - accuracy: 0.7596 - val_loss: 1.4083 - val_accuracy: 0.5333\n",
            "Epoch 80/100\n",
            "6/6 [==============================] - 0s 4ms/step - loss: 0.5661 - accuracy: 0.7212 - val_loss: 1.2853 - val_accuracy: 0.5333\n",
            "Epoch 81/100\n",
            "6/6 [==============================] - 0s 4ms/step - loss: 0.5818 - accuracy: 0.7500 - val_loss: 1.5417 - val_accuracy: 0.5111\n",
            "Epoch 82/100\n",
            "6/6 [==============================] - 0s 4ms/step - loss: 0.5862 - accuracy: 0.7212 - val_loss: 1.4845 - val_accuracy: 0.5111\n",
            "Epoch 83/100\n",
            "6/6 [==============================] - 0s 4ms/step - loss: 0.5351 - accuracy: 0.7212 - val_loss: 1.3253 - val_accuracy: 0.5111\n",
            "Epoch 84/100\n",
            "6/6 [==============================] - 0s 4ms/step - loss: 0.5364 - accuracy: 0.7404 - val_loss: 1.3653 - val_accuracy: 0.5111\n",
            "Epoch 85/100\n",
            "6/6 [==============================] - 0s 4ms/step - loss: 0.5624 - accuracy: 0.7404 - val_loss: 1.4162 - val_accuracy: 0.5111\n",
            "Epoch 86/100\n",
            "6/6 [==============================] - 0s 4ms/step - loss: 0.5540 - accuracy: 0.7404 - val_loss: 1.4940 - val_accuracy: 0.5778\n",
            "Epoch 87/100\n",
            "6/6 [==============================] - 0s 4ms/step - loss: 0.5825 - accuracy: 0.7212 - val_loss: 1.4156 - val_accuracy: 0.4667\n",
            "Epoch 88/100\n",
            "6/6 [==============================] - 0s 4ms/step - loss: 0.6817 - accuracy: 0.6442 - val_loss: 1.6117 - val_accuracy: 0.5111\n",
            "Epoch 89/100\n",
            "6/6 [==============================] - 0s 4ms/step - loss: 0.6028 - accuracy: 0.7404 - val_loss: 1.2800 - val_accuracy: 0.5778\n",
            "Epoch 90/100\n",
            "6/6 [==============================] - 0s 4ms/step - loss: 0.6097 - accuracy: 0.7308 - val_loss: 1.3924 - val_accuracy: 0.5333\n",
            "Epoch 91/100\n",
            "6/6 [==============================] - 0s 4ms/step - loss: 0.5868 - accuracy: 0.7308 - val_loss: 1.5118 - val_accuracy: 0.6667\n",
            "Epoch 92/100\n",
            "6/6 [==============================] - 0s 4ms/step - loss: 0.6470 - accuracy: 0.7019 - val_loss: 1.2437 - val_accuracy: 0.5333\n",
            "Epoch 93/100\n",
            "6/6 [==============================] - 0s 4ms/step - loss: 0.5811 - accuracy: 0.7308 - val_loss: 1.4210 - val_accuracy: 0.5111\n",
            "Epoch 94/100\n",
            "6/6 [==============================] - 0s 4ms/step - loss: 0.5479 - accuracy: 0.7212 - val_loss: 1.2789 - val_accuracy: 0.5333\n",
            "Epoch 95/100\n",
            "6/6 [==============================] - 0s 4ms/step - loss: 0.5511 - accuracy: 0.7212 - val_loss: 1.2461 - val_accuracy: 0.5333\n",
            "Epoch 96/100\n",
            "6/6 [==============================] - 0s 4ms/step - loss: 0.5697 - accuracy: 0.7212 - val_loss: 1.5023 - val_accuracy: 0.5556\n",
            "Epoch 97/100\n",
            "6/6 [==============================] - 0s 4ms/step - loss: 0.5646 - accuracy: 0.7212 - val_loss: 1.2661 - val_accuracy: 0.6444\n",
            "Epoch 98/100\n",
            "6/6 [==============================] - 0s 4ms/step - loss: 0.5379 - accuracy: 0.7500 - val_loss: 1.4503 - val_accuracy: 0.4889\n",
            "Epoch 99/100\n",
            "6/6 [==============================] - 0s 4ms/step - loss: 0.5547 - accuracy: 0.7692 - val_loss: 1.3920 - val_accuracy: 0.6889\n",
            "Epoch 100/100\n",
            "6/6 [==============================] - 0s 4ms/step - loss: 0.5373 - accuracy: 0.7885 - val_loss: 1.5142 - val_accuracy: 0.5111\n"
          ]
        }
      ],
      "source": [
        "history = model.fit(X_train, y_train_c, validation_split=0.30, epochs = 100, batch_size= 20, verbose = 1)"
      ]
    },
    {
      "cell_type": "code",
      "execution_count": 113,
      "metadata": {
        "colab": {
          "base_uri": "https://localhost:8080/",
          "height": 295
        },
        "id": "7KHZHUcxJTMC",
        "outputId": "bfbdbfe4-8c33-469e-df27-113c9f4b4a3b"
      },
      "outputs": [
        {
          "data": {
            "image/png": "[encoded data removed]",
            "text/plain": [
              "<Figure size 640x480 with 1 Axes>"
            ]
          },
          "metadata": {},
          "output_type": "display_data"
        }
      ],
      "source": [
        "# summarize history for accuracy\n",
        "plt.plot(history.history['accuracy'])\n",
        "plt.plot(history.history['val_accuracy'])\n",
        "plt.title('model accuracy')\n",
        "plt.ylabel('accuracy')\n",
        "plt.xlabel('epoch')\n",
        "plt.legend(['train', 'validation'], loc='upper left')\n",
        "plt.show()"
      ]
    },
    {
      "cell_type": "code",
      "execution_count": 99,
      "metadata": {
        "colab": {
          "base_uri": "https://localhost:8080/",
          "height": 295
        },
        "id": "JK_nvVkzJV7D",
        "outputId": "1fdd7cb8-158a-48c5-b202-29fa0bdfbae7"
      },
      "outputs": [
        {
          "data": {
            "image/png": "[encoded data removed]",
            "text/plain": [
              "<Figure size 640x480 with 1 Axes>"
            ]
          },
          "metadata": {},
          "output_type": "display_data"
        }
      ],
      "source": [
        "# summarize history for loss\n",
        "plt.plot(history.history['loss'])\n",
        "plt.plot(history.history['val_loss'])\n",
        "plt.title('model loss')\n",
        "plt.ylabel('loss')\n",
        "plt.xlabel('epoch')\n",
        "plt.legend(['train', 'validation'], loc='upper left')\n",
        "plt.show()"
      ]
    },
    {
      "cell_type": "code",
      "execution_count": 114,
      "metadata": {
        "colab": {
          "base_uri": "https://localhost:8080/"
        },
        "id": "RYIm2UFCZnPg",
        "outputId": "057a525f-58e6-44f5-ec92-d73ffee55b46"
      },
      "outputs": [
        {
          "name": "stdout",
          "output_type": "stream",
          "text": [
            "3/3 [==============================] - 0s 973us/step\n",
            "[1 5 1 4 5 0 5 1 1 1 1 0 5 0 0 0 1 3 5 5 1 1 1 1 1 1 3 1 1 1 0 1 1 1 1 3 1\n",
            " 1 0 1 1 1 1 0 0 4 5 1 1 1 1 5 5 1 1 1 1 1 1 1 0 1 3 3 1]\n"
          ]
        }
      ],
      "source": [
        "prediction=model.predict(X_test)\n",
        "length=len(prediction)\n",
        "#print(prediction)\n",
        "y_label_prediction=np.argmax(prediction,axis=1)\n",
        "print(y_label_prediction)"
      ]
    },
    {
      "cell_type": "code",
      "execution_count": 115,
      "metadata": {
        "colab": {
          "base_uri": "https://localhost:8080/"
        },
        "id": "mgiHP9UpaaRi",
        "outputId": "16d7ad6f-8e89-4de4-807f-1d60a0d9d670"
      },
      "outputs": [
        {
          "name": "stdout",
          "output_type": "stream",
          "text": [
            "[0 3 0 4 5 2 5 0 1 4 0 0 5 0 0 2 0 3 5 3 1 1 1 4 1 1 3 3 1 1 0 0 1 3 0 3 2\n",
            " 2 0 0 1 2 0 0 5 5 5 0 0 0 3 5 5 1 1 1 0 1 1 1 1 0 4 1 0]\n"
          ]
        }
      ],
      "source": [
        "y_label_values=np.argmax(y_test_c,axis=1)\n",
        "# print(y_test_c)\n",
        "print(y_label_values)\n"
      ]
    },
    {
      "cell_type": "code",
      "execution_count": 116,
      "metadata": {
        "colab": {
          "base_uri": "https://localhost:8080/"
        },
        "id": "W5WhJIEqJeze",
        "outputId": "be0fd843-bafc-4990-9779-ddc9760a15c5"
      },
      "outputs": [
        {
          "name": "stdout",
          "output_type": "stream",
          "text": [
            "Accuracy: 0.507692\n"
          ]
        }
      ],
      "source": [
        "# accuracy: (tp + tn) / (p + n)\n",
        "accuracy = accuracy_score(y_label_values, y_label_prediction)\n",
        "print('Accuracy: %f' % accuracy)"
      ]
    },
    {
      "cell_type": "code",
      "execution_count": 117,
      "metadata": {
        "colab": {
          "base_uri": "https://localhost:8080/"
        },
        "id": "LjiW9Q3hJhWO",
        "outputId": "75ad1ec5-7910-4800-cd0b-9b33ba9c67b7"
      },
      "outputs": [
        {
          "name": "stdout",
          "output_type": "stream",
          "text": [
            "[[ 6 15  0  0  0  0]\n",
            " [ 1 16  0  1  0  0]\n",
            " [ 2  3  0  0  0  0]\n",
            " [ 0  3  0  3  0  2]\n",
            " [ 0  2  0  1  1  0]\n",
            " [ 1  0  0  0  1  7]]\n"
          ]
        }
      ],
      "source": [
        "# confusion matrix\n",
        "matrix = confusion_matrix(y_label_values, y_label_prediction)\n",
        "print(matrix)"
      ]
    },
    {
      "cell_type": "code",
      "execution_count": null,
      "metadata": {
        "id": "5iHv211qesBH"
      },
      "outputs": [],
      "source": []
    }
  ],
  "metadata": {
    "colab": {
      "provenance": []
    },
    "kernelspec": {
      "display_name": "Python 3",
      "name": "python3"
    },
    "language_info": {
      "codemirror_mode": {
        "name": "ipython",
        "version": 3
      },
      "file_extension": ".py",
      "mimetype": "text/x-python",
      "name": "python",
      "nbconvert_exporter": "python",
      "pygments_lexer": "ipython3",
      "version": "3.11.1"
    }
  },
  "nbformat": 4,
  "nbformat_minor": 0
}
