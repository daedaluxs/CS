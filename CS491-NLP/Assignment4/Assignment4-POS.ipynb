{
  "cells": [
    {
      "cell_type": "markdown",
      "metadata": {
        "id": "TCTtC9p02XiC"
      },
      "source": [
        "The purpose of this notebook is to experiment with part of speech tagging using a Hidden Markov Model and the Viterbi algoritm. We train the algorithm on the Brown Corpus."
      ]
    },
    {
      "cell_type": "code",
      "execution_count": null,
      "metadata": {
        "_cell_guid": "b1076dfc-b9ad-4769-8c92-a6c4dae69d19",
        "_uuid": "8f2839f25d086af736a60e9eeb907d3b93b6e0e5",
        "colab": {
          "base_uri": "https://localhost:8080/"
        },
        "id": "SL658GqKWMgG",
        "outputId": "6940ee08-f8e6-49cf-f9bc-6a75b9da1f0a",
        "trusted": true
      },
      "outputs": [
        {
          "name": "stderr",
          "output_type": "stream",
          "text": [
            "[nltk_data] Downloading package brown to /root/nltk_data...\n",
            "[nltk_data]   Unzipping corpora/brown.zip.\n",
            "[nltk_data] Downloading package universal_tagset to /root/nltk_data...\n",
            "[nltk_data]   Unzipping taggers/universal_tagset.zip.\n"
          ]
        }
      ],
      "source": [
        "import numpy as np\n",
        "import pandas as pd\n",
        "import nltk\n",
        "\n",
        "nltk.download('brown')\n",
        "from nltk.corpus import brown\n",
        "\n",
        "\n",
        "\n",
        "# Accessing the tagged sentences\n",
        "nltk.download('universal_tagset')\n",
        "\n",
        "brown_tagged_sents = brown.tagged_sents(tagset='universal')\n"
      ]
    },
    {
      "cell_type": "markdown",
      "metadata": {
        "id": "serfRTOd94Ie"
      },
      "source": [
        "# Brown corpus\n"
      ]
    },
    {
      "cell_type": "code",
      "execution_count": null,
      "metadata": {
        "colab": {
          "base_uri": "https://localhost:8080/"
        },
        "id": "12Sf6t_QAwCR",
        "outputId": "7654f63e-282d-4023-d582-1ca17101d01d"
      },
      "outputs": [
        {
          "name": "stdout",
          "output_type": "stream",
          "text": [
            "{'VERB', 'DET', 'PRT', 'ADP', 'ADJ', 'CONJ', 'NUM', 'NOUN', '.', 'PRON', 'X', 'ADV'}\n"
          ]
        }
      ],
      "source": [
        "# prompt: From brown_tagged_sents get parts of speech tags and form a set.\n",
        "\n",
        "parts_of_speech = set()\n",
        "for sentence in brown_tagged_sents:\n",
        "  for word, tag in sentence:\n",
        "    parts_of_speech.add(tag)\n",
        "print(parts_of_speech)"
      ]
    },
    {
      "cell_type": "markdown",
      "metadata": {
        "id": "ALH3vLT2A_3I"
      },
      "source": [
        "See [universal POS tags readme](https://github.com/slavpetrov/universal-pos-tags/blob/master/README.md)"
      ]
    },
    {
      "cell_type": "code",
      "execution_count": null,
      "metadata": {
        "id": "UcK3Ii2ZR1hq"
      },
      "outputs": [],
      "source": [
        "brown_tagged_sents = brown.tagged_sents(tagset='universal')\n",
        "brown_tagged_sents = [[('START', 'START')] + sentence + [('END', 'END')] for sentence in brown_tagged_sents]\n",
        "# We adding to each sentence a start and end. We can think of 'Start' as a part of speech and also as a word."
      ]
    },
    {
      "cell_type": "code",
      "execution_count": null,
      "metadata": {
        "id": "nTkWdBq65DDq"
      },
      "outputs": [],
      "source": [
        "brown_word_tags = [word_tag for sentence in brown_tagged_sents for word_tag in sentence]"
      ]
    },
    {
      "cell_type": "code",
      "execution_count": null,
      "metadata": {
        "id": "s2D4WqQdsPLd"
      },
      "outputs": [],
      "source": [
        "tag_word_pairs = [(tag, word) for word, tag in brown_word_tags]\n",
        "#reversing the ordering since we want to find prob(word|tag)"
      ]
    },
    {
      "cell_type": "code",
      "execution_count": null,
      "metadata": {
        "id": "2VEM3ReyWMgO",
        "trusted": true
      },
      "outputs": [],
      "source": [
        "#Getting the conditional frequency distribution for the words which are tagged\n",
        "cfd_word_given_tag=nltk.ConditionalFreqDist(tag_word_pairs)"
      ]
    },
    {
      "cell_type": "code",
      "execution_count": null,
      "metadata": {
        "id": "ezFcDNyqn3ZB"
      },
      "outputs": [],
      "source": [
        "# Create a ConditionalProbDist for emission probabilities\n",
        "cpd_emission = nltk.ConditionalProbDist(cfd_word_given_tag, nltk.MLEProbDist) #NEED\n",
        "# LaplaceProbDist is an alternative to MLE"
      ]
    },
    {
      "cell_type": "code",
      "execution_count": null,
      "metadata": {
        "id": "BGegK0nHWMgP",
        "trusted": true
      },
      "outputs": [],
      "source": [
        "# Extract the sequence of tags from the original list of (word, tag) pairs\n",
        "tags = [tag for word, tag in brown_word_tags]\n",
        "\n",
        "# Create pairs of consecutive tags\n",
        "tag_pairs = [(tags[i], tags[i+1]) for i in range(len(tags)-1)]\n"
      ]
    },
    {
      "cell_type": "code",
      "execution_count": null,
      "metadata": {
        "id": "XnmGBe4tWMgP",
        "trusted": true
      },
      "outputs": [],
      "source": [
        "# Create a CFD from the pairs of consecutive tags\n",
        "cfd_tag_transitions = nltk.ConditionalFreqDist(tag_pairs) #NEED\n"
      ]
    },
    {
      "cell_type": "code",
      "execution_count": null,
      "metadata": {
        "id": "TA0s8Ni4vGDp"
      },
      "outputs": [],
      "source": [
        "# Convert the CFD into a CPD for transition probabilities\n",
        "cpd_tag_transitions = nltk.ConditionalProbDist(cfd_tag_transitions, nltk.MLEProbDist) #NEED\n"
      ]
    },
    {
      "cell_type": "markdown",
      "metadata": {
        "id": "f9tvxGrn0quN"
      },
      "source": [
        "# Viterbi Algorithm"
      ]
    },
    {
      "cell_type": "code",
      "execution_count": null,
      "metadata": {
        "id": "whsZEmbu0vp2"
      },
      "outputs": [],
      "source": [
        "def viterbi(observed_words, cpd_tag_transitions, cpd_emission, states):\n",
        "    # Initialize the dynamic programming table to store probabilities\n",
        "    V = [{}]\n",
        "    path = {}\n",
        "\n",
        "    # Initialize base case (t == 0)\n",
        "    for state in states:\n",
        "        V[0][state] = cpd_tag_transitions['START'].prob(state) * cpd_emission[state].prob(observed_words[0])\n",
        "        path[state] = [state]\n",
        "\n",
        "    # Run Viterbi for t > 0\n",
        "    for t in range(1, len(observed_words)):\n",
        "        V.append({})\n",
        "        newpath = {}\n",
        "\n",
        "        for cur_state in states:\n",
        "            # Check if state is 'START' or 'END'\n",
        "            if cur_state in ['START', 'END']:\n",
        "                continue\n",
        "\n",
        "            # Select the state transition path with the maximum probability\n",
        "            # MODIFIED to LOG PROB using ChatGPT\n",
        "            (prob, state) = max(\n",
        "                (V[t-1][prev_state] + Math.log(cpd_tag_transitions[prev_state].prob(cur_state)) + Math.log(cpd_emission[cur_state].prob(observed_words[t])), prev_state)\n",
        "                for prev_state in states if prev_state not in ['START', 'END']\n",
        "            )\n",
        "\n",
        "            V[t][cur_state] = prob\n",
        "            newpath[cur_state] = path[state] + [cur_state]\n",
        "\n",
        "        # Don't need to remember the old paths\n",
        "        path = newpath\n",
        "\n",
        "    # Add a final step for transition to 'END' state\n",
        "    prob, state = max((V[len(observed_words) - 1][state] * cpd_tag_transitions[state].prob('END'), state) for state in states if state not in ['START', 'END'])\n",
        "    return (prob, path[state])\n",
        "\n",
        "\n"
      ]
    },
    {
      "cell_type": "code",
      "execution_count": null,
      "metadata": {
        "colab": {
          "base_uri": "https://localhost:8080/"
        },
        "id": "uAo7Z58O0zPh",
        "outputId": "ab85b1e2-9ea8-4e86-e438-386c32d81eda"
      },
      "outputs": [
        {
          "name": "stdout",
          "output_type": "stream",
          "text": [
            "Probability of the best tag sequence: 1.1444712915476514e-14\n",
            "Best tag sequence: ['DET', 'ADJ', 'NOUN']\n"
          ]
        }
      ],
      "source": [
        "# Example usage\n",
        "observed_words = [\"The\", \"sly\", \"fox\"]\n",
        "states = ['NOUN', 'VERB', 'PRON', 'ADJ', 'ADV', 'ADP', 'CONJ', 'DET', 'NUM', 'PRT', 'X', 'START', 'END']  # Add your list of states/tags\n",
        "(prob, sequence) = viterbi(observed_words, cpd_tag_transitions, cpd_emission, states)\n",
        "print(f\"Probability of the best tag sequence: {prob}\")\n",
        "print(f\"Best tag sequence: {sequence}\")"
      ]
    }
  ],
  "metadata": {
    "colab": {
      "collapsed_sections": [
        "serfRTOd94Ie"
      ],
      "include_colab_link": true,
      "provenance": []
    },
    "kaggle": {
      "accelerator": "none",
      "dataSources": [],
      "dockerImageVersionId": 29980,
      "isGpuEnabled": false,
      "isInternetEnabled": false,
      "language": "python",
      "sourceType": "notebook"
    },
    "kernelspec": {
      "display_name": "Python 3",
      "language": "python",
      "name": "python3"
    },
    "language_info": {
      "codemirror_mode": {
        "name": "ipython",
        "version": 3
      },
      "file_extension": ".py",
      "mimetype": "text/x-python",
      "name": "python",
      "nbconvert_exporter": "python",
      "pygments_lexer": "ipython3",
      "version": "3.9.13"
    }
  },
  "nbformat": 4,
  "nbformat_minor": 0
}
