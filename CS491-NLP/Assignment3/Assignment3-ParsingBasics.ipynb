{
  "cells": [
    {
      "cell_type": "markdown",
      "metadata": {
        "id": "t5WbWUmcB1A_"
      },
      "source": [
        "# Initialize things"
      ]
    },
    {
      "cell_type": "code",
      "execution_count": 152,
      "metadata": {
        "colab": {
          "base_uri": "https://localhost:8080/"
        },
        "id": "4FyUaGuo4MsF",
        "outputId": "14501a5e-cdd1-4f18-b00f-120f634335a0"
      },
      "outputs": [
        {
          "name": "stderr",
          "output_type": "stream",
          "text": [
            "[nltk_data] Downloading package punkt to\n",
            "[nltk_data]     C:\\Users\\Daed\\AppData\\Roaming\\nltk_data...\n",
            "[nltk_data]   Package punkt is already up-to-date!\n"
          ]
        }
      ],
      "source": [
        "import nltk\n",
        "from nltk.tokenize import sent_tokenize\n",
        "nltk.download('punkt')\n",
        "\n",
        "import graphviz"
      ]
    },
    {
      "cell_type": "code",
      "execution_count": 153,
      "metadata": {
        "colab": {
          "base_uri": "https://localhost:8080/"
        },
        "id": "6YM5N09l4QOg",
        "outputId": "adc23202-3836-4a2a-ef60-7654c9347cc9"
      },
      "outputs": [
        {
          "name": "stderr",
          "output_type": "stream",
          "text": [
            "[nltk_data] Downloading package averaged_perceptron_tagger to\n",
            "[nltk_data]     C:\\Users\\Daed\\AppData\\Roaming\\nltk_data...\n",
            "[nltk_data]   Package averaged_perceptron_tagger is already up-to-\n",
            "[nltk_data]       date!\n"
          ]
        },
        {
          "data": {
            "text/plain": [
              "True"
            ]
          },
          "execution_count": 153,
          "metadata": {},
          "output_type": "execute_result"
        }
      ],
      "source": [
        "nltk.download('averaged_perceptron_tagger')"
      ]
    },
    {
      "cell_type": "code",
      "execution_count": 154,
      "metadata": {
        "id": "hsXp8ZgC5-vf"
      },
      "outputs": [],
      "source": [
        "# Function to convert NLTK tree to graphviz source\n",
        "def to_graphviz(tree):\n",
        "    dot = graphviz.Digraph(comment='Parse Tree')\n",
        "\n",
        "    def add_nodes_edges(tree, dot, parent_index=None, index=0):\n",
        "        node_index = index\n",
        "        if isinstance(tree, nltk.Tree):\n",
        "            node_label = tree.label()\n",
        "            dot.node(str(node_index), node_label)\n",
        "            if parent_index is not None:\n",
        "                dot.edge(str(parent_index), str(node_index))\n",
        "            for child in tree:\n",
        "                index += 1\n",
        "                index = add_nodes_edges(child, dot, node_index, index)\n",
        "        else:\n",
        "            # Leaf node\n",
        "            dot.node(str(index), str(tree))\n",
        "            if parent_index is not None:\n",
        "                dot.edge(str(parent_index), str(index))\n",
        "        return index\n",
        "\n",
        "    add_nodes_edges(tree, dot)\n",
        "    return dot\n",
        "\n",
        "\n",
        "# Convert tree to graphviz source and display\n",
        "\n"
      ]
    },
    {
      "cell_type": "markdown",
      "metadata": {
        "id": "OfRYU89CB8-u"
      },
      "source": [
        "# sentences and grammars: chunking\n"
      ]
    },
    {
      "cell_type": "code",
      "execution_count": 155,
      "metadata": {
        "id": "DusXhKnN5P8W"
      },
      "outputs": [],
      "source": [
        "# Some possible grammars to create parse tree\n",
        "# grammar=\" \" #empty grammar\n",
        "# grammar = \"NP: {<JJ><NN>}\"\n",
        "# grammar = \"NP: {<DT>?<JJ>*<NN>}\"\n",
        "\n",
        "grammar = r\"\"\"\n",
        "    NP: {<VBG><NNS>}  # Chunk gerund (VBG) followed by plural noun (NNS)\n",
        "    VP: {<MD><VB><JJ>}         # Chunk modal verb (MD), verb (VB), and adjective (JJ)\n",
        "\"\"\"\n",
        "\n",
        "parser = nltk.RegexpParser(grammar)"
      ]
    },
    {
      "cell_type": "code",
      "execution_count": 156,
      "metadata": {
        "colab": {
          "base_uri": "https://localhost:8080/"
        },
        "id": "47yaMnLL4iDg",
        "outputId": "7016f328-e6f0-4650-aa5a-9032a83c3114"
      },
      "outputs": [
        {
          "name": "stdout",
          "output_type": "stream",
          "text": [
            "Flying planes can be dangerous\n"
          ]
        }
      ],
      "source": [
        "# Menu of sentences to be tagged #\n",
        "# sentence=\"See Spot run.\"\n",
        "# sentence=\"The quick brown fox jumped over the lazy dog.\"\n",
        "#sentence = \"At eight o'clock on Thursday morning Arthur didn't feel very good.\"\n",
        "# sentence='They can fish.'\n",
        "sentence='Flying planes can be dangerous'\n",
        "print(sentence)"
      ]
    },
    {
      "cell_type": "code",
      "execution_count": 157,
      "metadata": {
        "colab": {
          "base_uri": "https://localhost:8080/"
        },
        "id": "j0qrh3ui5AKw",
        "outputId": "42f5f814-8b82-4241-bcdd-725921e0a3f2"
      },
      "outputs": [
        {
          "name": "stdout",
          "output_type": "stream",
          "text": [
            "tokens are ['Flying', 'planes', 'can', 'be', 'dangerous']\n",
            "POS tags are [('Flying', 'VBG'), ('planes', 'NNS'), ('can', 'MD'), ('be', 'VB'), ('dangerous', 'JJ')]\n"
          ]
        }
      ],
      "source": [
        "#  Tokenizing and tagging\n",
        "tokens = nltk.word_tokenize(sentence)\n",
        "tagged = nltk.pos_tag(tokens)\n",
        "print(f'tokens are {tokens}')\n",
        "print(f'POS tags are {tagged}')"
      ]
    },
    {
      "cell_type": "code",
      "execution_count": 158,
      "metadata": {
        "colab": {
          "base_uri": "https://localhost:8080/"
        },
        "id": "ZffIRqiE56Yw",
        "outputId": "8a87a514-2047-4809-de6b-962926edf506"
      },
      "outputs": [
        {
          "name": "stdout",
          "output_type": "stream",
          "text": [
            "(S (NP Flying/VBG planes/NNS) (VP can/MD be/VB dangerous/JJ))\n"
          ]
        }
      ],
      "source": [
        "# Create tree\n",
        "tree = parser.parse(tagged)\n",
        "print(tree)"
      ]
    },
    {
      "cell_type": "code",
      "execution_count": 159,
      "metadata": {
        "colab": {
          "base_uri": "https://localhost:8080/",
          "height": 389
        },
        "id": "pHIIyL9dDYyF",
        "outputId": "d1393217-0861-4b13-d09f-ce3c06dfac51"
      },
      "outputs": [
        {
          "data": {
            "image/svg+xml": [
              "<?xml version=\"1.0\" encoding=\"UTF-8\" standalone=\"no\"?>\n",
              "<!DOCTYPE svg PUBLIC \"-//W3C//DTD SVG 1.1//EN\"\n",
              " \"http://www.w3.org/Graphics/SVG/1.1/DTD/svg11.dtd\">\n",
              "<!-- Generated by graphviz version 9.0.0 (20230911.1827)\n",
              " -->\n",
              "<!-- Pages: 1 -->\n",
              "<svg width=\"734pt\" height=\"188pt\"\n",
              " viewBox=\"0.00 0.00 734.04 188.00\" xmlns=\"http://www.w3.org/2000/svg\" xmlns:xlink=\"http://www.w3.org/1999/xlink\">\n",
              "<g id=\"graph0\" class=\"graph\" transform=\"scale(1 1) rotate(0) translate(4 184)\">\n",
              "<polygon fill=\"white\" stroke=\"none\" points=\"-4,4 -4,-184 730.04,-184 730.04,4 -4,4\"/>\n",
              "<!-- 0 -->\n",
              "<g id=\"node1\" class=\"node\">\n",
              "<title>0</title>\n",
              "<ellipse fill=\"none\" stroke=\"black\" cx=\"307.02\" cy=\"-162\" rx=\"27\" ry=\"18\"/>\n",
              "<text text-anchor=\"middle\" x=\"307.02\" y=\"-156.57\" font-family=\"Times New Roman,serif\" font-size=\"14.00\">S</text>\n",
              "</g>\n",
              "<!-- 1 -->\n",
              "<g id=\"node2\" class=\"node\">\n",
              "<title>1</title>\n",
              "<ellipse fill=\"none\" stroke=\"black\" cx=\"234.02\" cy=\"-90\" rx=\"27\" ry=\"18\"/>\n",
              "<text text-anchor=\"middle\" x=\"234.02\" y=\"-84.58\" font-family=\"Times New Roman,serif\" font-size=\"14.00\">NP</text>\n",
              "</g>\n",
              "<!-- 0&#45;&gt;1 -->\n",
              "<g id=\"edge1\" class=\"edge\">\n",
              "<title>0&#45;&gt;1</title>\n",
              "<path fill=\"none\" stroke=\"black\" d=\"M292.25,-146.83C282.22,-137.22 268.76,-124.31 257.3,-113.32\"/>\n",
              "<polygon fill=\"black\" stroke=\"black\" points=\"259.76,-110.83 250.12,-106.43 254.91,-115.88 259.76,-110.83\"/>\n",
              "</g>\n",
              "<!-- 4 -->\n",
              "<g id=\"node5\" class=\"node\">\n",
              "<title>4</title>\n",
              "<ellipse fill=\"none\" stroke=\"black\" cx=\"444.02\" cy=\"-90\" rx=\"27\" ry=\"18\"/>\n",
              "<text text-anchor=\"middle\" x=\"444.02\" y=\"-84.58\" font-family=\"Times New Roman,serif\" font-size=\"14.00\">VP</text>\n",
              "</g>\n",
              "<!-- 0&#45;&gt;4 -->\n",
              "<g id=\"edge4\" class=\"edge\">\n",
              "<title>0&#45;&gt;4</title>\n",
              "<path fill=\"none\" stroke=\"black\" d=\"M328.13,-150.22C350.82,-138.62 387.13,-120.07 413.05,-106.82\"/>\n",
              "<polygon fill=\"black\" stroke=\"black\" points=\"414.46,-110.04 421.77,-102.37 411.27,-103.8 414.46,-110.04\"/>\n",
              "</g>\n",
              "<!-- 2 -->\n",
              "<g id=\"node3\" class=\"node\">\n",
              "<title>2</title>\n",
              "<ellipse fill=\"none\" stroke=\"black\" cx=\"72.02\" cy=\"-18\" rx=\"72.02\" ry=\"18\"/>\n",
              "<text text-anchor=\"middle\" x=\"72.02\" y=\"-12.57\" font-family=\"Times New Roman,serif\" font-size=\"14.00\">(&#39;Flying&#39;, &#39;VBG&#39;)</text>\n",
              "</g>\n",
              "<!-- 1&#45;&gt;2 -->\n",
              "<g id=\"edge2\" class=\"edge\">\n",
              "<title>1&#45;&gt;2</title>\n",
              "<path fill=\"none\" stroke=\"black\" d=\"M211.84,-79.41C187.65,-68.96 148.29,-51.95 117.48,-38.64\"/>\n",
              "<polygon fill=\"black\" stroke=\"black\" points=\"118.94,-35.46 108.37,-34.71 116.16,-41.89 118.94,-35.46\"/>\n",
              "</g>\n",
              "<!-- 3 -->\n",
              "<g id=\"node4\" class=\"node\">\n",
              "<title>3</title>\n",
              "<ellipse fill=\"none\" stroke=\"black\" cx=\"234.02\" cy=\"-18\" rx=\"71.52\" ry=\"18\"/>\n",
              "<text text-anchor=\"middle\" x=\"234.02\" y=\"-12.57\" font-family=\"Times New Roman,serif\" font-size=\"14.00\">(&#39;planes&#39;, &#39;NNS&#39;)</text>\n",
              "</g>\n",
              "<!-- 1&#45;&gt;3 -->\n",
              "<g id=\"edge3\" class=\"edge\">\n",
              "<title>1&#45;&gt;3</title>\n",
              "<path fill=\"none\" stroke=\"black\" d=\"M234.02,-71.7C234.02,-64.41 234.02,-55.73 234.02,-47.54\"/>\n",
              "<polygon fill=\"black\" stroke=\"black\" points=\"237.52,-47.62 234.02,-37.62 230.52,-47.62 237.52,-47.62\"/>\n",
              "</g>\n",
              "<!-- 5 -->\n",
              "<g id=\"node6\" class=\"node\">\n",
              "<title>5</title>\n",
              "<ellipse fill=\"none\" stroke=\"black\" cx=\"381.02\" cy=\"-18\" rx=\"57.05\" ry=\"18\"/>\n",
              "<text text-anchor=\"middle\" x=\"381.02\" y=\"-12.57\" font-family=\"Times New Roman,serif\" font-size=\"14.00\">(&#39;can&#39;, &#39;MD&#39;)</text>\n",
              "</g>\n",
              "<!-- 4&#45;&gt;5 -->\n",
              "<g id=\"edge5\" class=\"edge\">\n",
              "<title>4&#45;&gt;5</title>\n",
              "<path fill=\"none\" stroke=\"black\" d=\"M430.66,-74.15C422.84,-65.46 412.75,-54.26 403.72,-44.22\"/>\n",
              "<polygon fill=\"black\" stroke=\"black\" points=\"406.44,-42.01 397.14,-36.91 401.23,-46.69 406.44,-42.01\"/>\n",
              "</g>\n",
              "<!-- 6 -->\n",
              "<g id=\"node7\" class=\"node\">\n",
              "<title>6</title>\n",
              "<ellipse fill=\"none\" stroke=\"black\" cx=\"507.02\" cy=\"-18\" rx=\"51.06\" ry=\"18\"/>\n",
              "<text text-anchor=\"middle\" x=\"507.02\" y=\"-12.57\" font-family=\"Times New Roman,serif\" font-size=\"14.00\">(&#39;be&#39;, &#39;VB&#39;)</text>\n",
              "</g>\n",
              "<!-- 4&#45;&gt;6 -->\n",
              "<g id=\"edge6\" class=\"edge\">\n",
              "<title>4&#45;&gt;6</title>\n",
              "<path fill=\"none\" stroke=\"black\" d=\"M457.38,-74.15C465.32,-65.34 475.58,-53.94 484.71,-43.79\"/>\n",
              "<polygon fill=\"black\" stroke=\"black\" points=\"487.26,-46.19 491.35,-36.42 482.06,-41.51 487.26,-46.19\"/>\n",
              "</g>\n",
              "<!-- 7 -->\n",
              "<g id=\"node8\" class=\"node\">\n",
              "<title>7</title>\n",
              "<ellipse fill=\"none\" stroke=\"black\" cx=\"651.02\" cy=\"-18\" rx=\"75.02\" ry=\"18\"/>\n",
              "<text text-anchor=\"middle\" x=\"651.02\" y=\"-12.57\" font-family=\"Times New Roman,serif\" font-size=\"14.00\">(&#39;dangerous&#39;, &#39;JJ&#39;)</text>\n",
              "</g>\n",
              "<!-- 4&#45;&gt;7 -->\n",
              "<g id=\"edge7\" class=\"edge\">\n",
              "<title>4&#45;&gt;7</title>\n",
              "<path fill=\"none\" stroke=\"black\" d=\"M467.77,-80.97C499.35,-70.29 556.08,-51.11 598.08,-36.9\"/>\n",
              "<polygon fill=\"black\" stroke=\"black\" points=\"599.18,-40.23 607.53,-33.71 596.93,-33.6 599.18,-40.23\"/>\n",
              "</g>\n",
              "</g>\n",
              "</svg>\n"
            ],
            "text/plain": [
              "<graphviz.graphs.Digraph at 0x22d46be7310>"
            ]
          },
          "metadata": {},
          "output_type": "display_data"
        }
      ],
      "source": [
        "dot_source = to_graphviz(tree)\n",
        "display(dot_source)"
      ]
    },
    {
      "cell_type": "markdown",
      "metadata": {
        "id": "8ZHXr_x28KMF"
      },
      "source": [
        "# Adjusting \"Flying planes can be dangerous\"\n",
        "\n",
        "With manual part-of-speech tagging changes."
      ]
    },
    {
      "cell_type": "code",
      "execution_count": 160,
      "metadata": {
        "colab": {
          "base_uri": "https://localhost:8080/"
        },
        "id": "grZbwcOo7b_a",
        "outputId": "43980b16-09a7-465b-eeb4-cf02dcdaa776"
      },
      "outputs": [
        {
          "name": "stdout",
          "output_type": "stream",
          "text": [
            "[('Flying', 'NN'), ('planes', 'NN'), ('can', 'VB'), ('be', 'VB'), ('dangerous', 'JJ')]\n"
          ]
        }
      ],
      "source": [
        "# prompt: replace ('Flying', 'VBG') with  ('brown', 'NN\") in tagged\n",
        "# prompt: replace ('planes', 'NNS') with  ('brown', 'NN\") in tagged\n",
        "# prompt: replace ('can', 'MD') with  ('can', 'VB\") in tagged\n",
        "for i, (word, tag) in enumerate(tagged):\n",
        "  if word == 'Flying' and tag == 'VBG':\n",
        "    tagged[i] = ('Flying', 'NN')\n",
        "  if word == 'planes' and tag == 'NNS':\n",
        "    tagged[i] = ('planes', 'NN')\n",
        "  if word == 'can' and tag == 'MD':\n",
        "    tagged[i] = ('can', 'VB')\n",
        "\n",
        "print(tagged)\n"
      ]
    },
    {
      "cell_type": "code",
      "execution_count": 161,
      "metadata": {
        "colab": {
          "base_uri": "https://localhost:8080/"
        },
        "id": "npxVt8xMA0Bl",
        "outputId": "ad26916b-b91d-453c-8679-70e06b320628"
      },
      "outputs": [
        {
          "name": "stdout",
          "output_type": "stream",
          "text": [
            "(S Flying/NN planes/NN can/VB be/VB dangerous/JJ)\n"
          ]
        }
      ],
      "source": [
        "tree = parser.parse(tagged)\n",
        "print(tree)"
      ]
    },
    {
      "cell_type": "code",
      "execution_count": 162,
      "metadata": {
        "id": "yWfow4IwAYgh"
      },
      "outputs": [
        {
          "data": {
            "image/svg+xml": [
              "<?xml version=\"1.0\" encoding=\"UTF-8\" standalone=\"no\"?>\n",
              "<!DOCTYPE svg PUBLIC \"-//W3C//DTD SVG 1.1//EN\"\n",
              " \"http://www.w3.org/Graphics/SVG/1.1/DTD/svg11.dtd\">\n",
              "<!-- Generated by graphviz version 9.0.0 (20230911.1827)\n",
              " -->\n",
              "<!-- Pages: 1 -->\n",
              "<svg width=\"706pt\" height=\"116pt\"\n",
              " viewBox=\"0.00 0.00 705.55 116.00\" xmlns=\"http://www.w3.org/2000/svg\" xmlns:xlink=\"http://www.w3.org/1999/xlink\">\n",
              "<g id=\"graph0\" class=\"graph\" transform=\"scale(1 1) rotate(0) translate(4 112)\">\n",
              "<polygon fill=\"white\" stroke=\"none\" points=\"-4,4 -4,-112 701.55,-112 701.55,4 -4,4\"/>\n",
              "<!-- 0 -->\n",
              "<g id=\"node1\" class=\"node\">\n",
              "<title>0</title>\n",
              "<ellipse fill=\"none\" stroke=\"black\" cx=\"354.53\" cy=\"-90\" rx=\"27\" ry=\"18\"/>\n",
              "<text text-anchor=\"middle\" x=\"354.53\" y=\"-84.58\" font-family=\"Times New Roman,serif\" font-size=\"14.00\">S</text>\n",
              "</g>\n",
              "<!-- 1 -->\n",
              "<g id=\"node2\" class=\"node\">\n",
              "<title>1</title>\n",
              "<ellipse fill=\"none\" stroke=\"black\" cx=\"65.53\" cy=\"-18\" rx=\"65.53\" ry=\"18\"/>\n",
              "<text text-anchor=\"middle\" x=\"65.53\" y=\"-12.57\" font-family=\"Times New Roman,serif\" font-size=\"14.00\">(&#39;Flying&#39;, &#39;NN&#39;)</text>\n",
              "</g>\n",
              "<!-- 0&#45;&gt;1 -->\n",
              "<g id=\"edge1\" class=\"edge\">\n",
              "<title>0&#45;&gt;1</title>\n",
              "<path fill=\"none\" stroke=\"black\" d=\"M329.39,-82.91C284.05,-71.93 187.46,-48.53 124.57,-33.3\"/>\n",
              "<polygon fill=\"black\" stroke=\"black\" points=\"125.64,-29.96 115.1,-31.01 124,-36.76 125.64,-29.96\"/>\n",
              "</g>\n",
              "<!-- 2 -->\n",
              "<g id=\"node3\" class=\"node\">\n",
              "<title>2</title>\n",
              "<ellipse fill=\"none\" stroke=\"black\" cx=\"215.53\" cy=\"-18\" rx=\"66.03\" ry=\"18\"/>\n",
              "<text text-anchor=\"middle\" x=\"215.53\" y=\"-12.57\" font-family=\"Times New Roman,serif\" font-size=\"14.00\">(&#39;planes&#39;, &#39;NN&#39;)</text>\n",
              "</g>\n",
              "<!-- 0&#45;&gt;2 -->\n",
              "<g id=\"edge2\" class=\"edge\">\n",
              "<title>0&#45;&gt;2</title>\n",
              "<path fill=\"none\" stroke=\"black\" d=\"M333.42,-78.37C313,-68.08 281.5,-52.22 256.2,-39.48\"/>\n",
              "<polygon fill=\"black\" stroke=\"black\" points=\"258,-36.47 247.5,-35.1 254.85,-42.72 258,-36.47\"/>\n",
              "</g>\n",
              "<!-- 3 -->\n",
              "<g id=\"node4\" class=\"node\">\n",
              "<title>3</title>\n",
              "<ellipse fill=\"none\" stroke=\"black\" cx=\"354.53\" cy=\"-18\" rx=\"55.06\" ry=\"18\"/>\n",
              "<text text-anchor=\"middle\" x=\"354.53\" y=\"-12.57\" font-family=\"Times New Roman,serif\" font-size=\"14.00\">(&#39;can&#39;, &#39;VB&#39;)</text>\n",
              "</g>\n",
              "<!-- 0&#45;&gt;3 -->\n",
              "<g id=\"edge3\" class=\"edge\">\n",
              "<title>0&#45;&gt;3</title>\n",
              "<path fill=\"none\" stroke=\"black\" d=\"M354.53,-71.7C354.53,-64.41 354.53,-55.73 354.53,-47.54\"/>\n",
              "<polygon fill=\"black\" stroke=\"black\" points=\"358.03,-47.62 354.53,-37.62 351.03,-47.62 358.03,-47.62\"/>\n",
              "</g>\n",
              "<!-- 4 -->\n",
              "<g id=\"node5\" class=\"node\">\n",
              "<title>4</title>\n",
              "<ellipse fill=\"none\" stroke=\"black\" cx=\"478.53\" cy=\"-18\" rx=\"51.06\" ry=\"18\"/>\n",
              "<text text-anchor=\"middle\" x=\"478.53\" y=\"-12.57\" font-family=\"Times New Roman,serif\" font-size=\"14.00\">(&#39;be&#39;, &#39;VB&#39;)</text>\n",
              "</g>\n",
              "<!-- 0&#45;&gt;4 -->\n",
              "<g id=\"edge4\" class=\"edge\">\n",
              "<title>0&#45;&gt;4</title>\n",
              "<path fill=\"none\" stroke=\"black\" d=\"M374.73,-77.6C392.98,-67.3 420.27,-51.89 442.29,-39.46\"/>\n",
              "<polygon fill=\"black\" stroke=\"black\" points=\"443.99,-42.52 450.98,-34.56 440.55,-36.42 443.99,-42.52\"/>\n",
              "</g>\n",
              "<!-- 5 -->\n",
              "<g id=\"node6\" class=\"node\">\n",
              "<title>5</title>\n",
              "<ellipse fill=\"none\" stroke=\"black\" cx=\"622.53\" cy=\"-18\" rx=\"75.02\" ry=\"18\"/>\n",
              "<text text-anchor=\"middle\" x=\"622.53\" y=\"-12.57\" font-family=\"Times New Roman,serif\" font-size=\"14.00\">(&#39;dangerous&#39;, &#39;JJ&#39;)</text>\n",
              "</g>\n",
              "<!-- 0&#45;&gt;5 -->\n",
              "<g id=\"edge5\" class=\"edge\">\n",
              "<title>0&#45;&gt;5</title>\n",
              "<path fill=\"none\" stroke=\"black\" d=\"M379.27,-82.54C420.54,-71.76 504.59,-49.81 562.23,-34.75\"/>\n",
              "<polygon fill=\"black\" stroke=\"black\" points=\"562.77,-38.23 571.56,-32.31 561,-31.45 562.77,-38.23\"/>\n",
              "</g>\n",
              "</g>\n",
              "</svg>\n"
            ],
            "text/plain": [
              "<graphviz.graphs.Digraph at 0x22d445d74d0>"
            ]
          },
          "metadata": {},
          "output_type": "display_data"
        }
      ],
      "source": [
        "dot_source = to_graphviz(tree)\n",
        "display(dot_source)"
      ]
    },
    {
      "cell_type": "markdown",
      "metadata": {
        "id": "wSC1oXA19Mda"
      },
      "source": [
        "# Adjusting \"They can fish.\"\n",
        "We want to adjust the tagging so that we get the meaning of \"a group of people who put fish into cans.\""
      ]
    },
    {
      "cell_type": "code",
      "execution_count": 163,
      "metadata": {
        "colab": {
          "base_uri": "https://localhost:8080/"
        },
        "id": "YReAf0S59Rz6",
        "outputId": "3a9755db-b508-4205-bbd4-eec01af1b022"
      },
      "outputs": [
        {
          "name": "stdout",
          "output_type": "stream",
          "text": [
            "[('Flying', 'NN'), ('planes', 'NN'), ('can', 'VB'), ('be', 'VB'), ('dangerous', 'JJ')]\n"
          ]
        }
      ],
      "source": [
        "# prompt: In tagged replace the POS for \"can\" to be a verb and the POS for \"fish\" to be a noun\n",
        "\n",
        "for i, (word, tag) in enumerate(tagged):\n",
        "  if word == 'can' and tag == 'MD':\n",
        "    tagged[i] = ('can', 'VB')\n",
        "  if word == 'fish' and tag == 'VB':\n",
        "    tagged[i] = ('fish', 'NN')\n",
        "\n",
        "print(tagged)\n"
      ]
    },
    {
      "cell_type": "code",
      "execution_count": 164,
      "metadata": {
        "colab": {
          "base_uri": "https://localhost:8080/"
        },
        "id": "XKqZYFYg_Iok",
        "outputId": "5d6bdc75-18ad-4e72-cf0f-0a15e8d52ad2"
      },
      "outputs": [
        {
          "name": "stdout",
          "output_type": "stream",
          "text": [
            "(S Flying/NN planes/NN can/VB be/VB dangerous/JJ)\n"
          ]
        }
      ],
      "source": [
        "#  Create tree\n",
        "tree = parser.parse(tagged)\n",
        "print(tree)"
      ]
    },
    {
      "cell_type": "code",
      "execution_count": 165,
      "metadata": {
        "colab": {
          "base_uri": "https://localhost:8080/",
          "height": 389
        },
        "id": "zNhlGcBXC6Wd",
        "outputId": "40156945-3247-489e-87ac-ce9b4cbe99ae"
      },
      "outputs": [
        {
          "data": {
            "image/svg+xml": [
              "<?xml version=\"1.0\" encoding=\"UTF-8\" standalone=\"no\"?>\n",
              "<!DOCTYPE svg PUBLIC \"-//W3C//DTD SVG 1.1//EN\"\n",
              " \"http://www.w3.org/Graphics/SVG/1.1/DTD/svg11.dtd\">\n",
              "<!-- Generated by graphviz version 9.0.0 (20230911.1827)\n",
              " -->\n",
              "<!-- Pages: 1 -->\n",
              "<svg width=\"706pt\" height=\"116pt\"\n",
              " viewBox=\"0.00 0.00 705.55 116.00\" xmlns=\"http://www.w3.org/2000/svg\" xmlns:xlink=\"http://www.w3.org/1999/xlink\">\n",
              "<g id=\"graph0\" class=\"graph\" transform=\"scale(1 1) rotate(0) translate(4 112)\">\n",
              "<polygon fill=\"white\" stroke=\"none\" points=\"-4,4 -4,-112 701.55,-112 701.55,4 -4,4\"/>\n",
              "<!-- 0 -->\n",
              "<g id=\"node1\" class=\"node\">\n",
              "<title>0</title>\n",
              "<ellipse fill=\"none\" stroke=\"black\" cx=\"354.53\" cy=\"-90\" rx=\"27\" ry=\"18\"/>\n",
              "<text text-anchor=\"middle\" x=\"354.53\" y=\"-84.58\" font-family=\"Times New Roman,serif\" font-size=\"14.00\">S</text>\n",
              "</g>\n",
              "<!-- 1 -->\n",
              "<g id=\"node2\" class=\"node\">\n",
              "<title>1</title>\n",
              "<ellipse fill=\"none\" stroke=\"black\" cx=\"65.53\" cy=\"-18\" rx=\"65.53\" ry=\"18\"/>\n",
              "<text text-anchor=\"middle\" x=\"65.53\" y=\"-12.57\" font-family=\"Times New Roman,serif\" font-size=\"14.00\">(&#39;Flying&#39;, &#39;NN&#39;)</text>\n",
              "</g>\n",
              "<!-- 0&#45;&gt;1 -->\n",
              "<g id=\"edge1\" class=\"edge\">\n",
              "<title>0&#45;&gt;1</title>\n",
              "<path fill=\"none\" stroke=\"black\" d=\"M329.39,-82.91C284.05,-71.93 187.46,-48.53 124.57,-33.3\"/>\n",
              "<polygon fill=\"black\" stroke=\"black\" points=\"125.64,-29.96 115.1,-31.01 124,-36.76 125.64,-29.96\"/>\n",
              "</g>\n",
              "<!-- 2 -->\n",
              "<g id=\"node3\" class=\"node\">\n",
              "<title>2</title>\n",
              "<ellipse fill=\"none\" stroke=\"black\" cx=\"215.53\" cy=\"-18\" rx=\"66.03\" ry=\"18\"/>\n",
              "<text text-anchor=\"middle\" x=\"215.53\" y=\"-12.57\" font-family=\"Times New Roman,serif\" font-size=\"14.00\">(&#39;planes&#39;, &#39;NN&#39;)</text>\n",
              "</g>\n",
              "<!-- 0&#45;&gt;2 -->\n",
              "<g id=\"edge2\" class=\"edge\">\n",
              "<title>0&#45;&gt;2</title>\n",
              "<path fill=\"none\" stroke=\"black\" d=\"M333.42,-78.37C313,-68.08 281.5,-52.22 256.2,-39.48\"/>\n",
              "<polygon fill=\"black\" stroke=\"black\" points=\"258,-36.47 247.5,-35.1 254.85,-42.72 258,-36.47\"/>\n",
              "</g>\n",
              "<!-- 3 -->\n",
              "<g id=\"node4\" class=\"node\">\n",
              "<title>3</title>\n",
              "<ellipse fill=\"none\" stroke=\"black\" cx=\"354.53\" cy=\"-18\" rx=\"55.06\" ry=\"18\"/>\n",
              "<text text-anchor=\"middle\" x=\"354.53\" y=\"-12.57\" font-family=\"Times New Roman,serif\" font-size=\"14.00\">(&#39;can&#39;, &#39;VB&#39;)</text>\n",
              "</g>\n",
              "<!-- 0&#45;&gt;3 -->\n",
              "<g id=\"edge3\" class=\"edge\">\n",
              "<title>0&#45;&gt;3</title>\n",
              "<path fill=\"none\" stroke=\"black\" d=\"M354.53,-71.7C354.53,-64.41 354.53,-55.73 354.53,-47.54\"/>\n",
              "<polygon fill=\"black\" stroke=\"black\" points=\"358.03,-47.62 354.53,-37.62 351.03,-47.62 358.03,-47.62\"/>\n",
              "</g>\n",
              "<!-- 4 -->\n",
              "<g id=\"node5\" class=\"node\">\n",
              "<title>4</title>\n",
              "<ellipse fill=\"none\" stroke=\"black\" cx=\"478.53\" cy=\"-18\" rx=\"51.06\" ry=\"18\"/>\n",
              "<text text-anchor=\"middle\" x=\"478.53\" y=\"-12.57\" font-family=\"Times New Roman,serif\" font-size=\"14.00\">(&#39;be&#39;, &#39;VB&#39;)</text>\n",
              "</g>\n",
              "<!-- 0&#45;&gt;4 -->\n",
              "<g id=\"edge4\" class=\"edge\">\n",
              "<title>0&#45;&gt;4</title>\n",
              "<path fill=\"none\" stroke=\"black\" d=\"M374.73,-77.6C392.98,-67.3 420.27,-51.89 442.29,-39.46\"/>\n",
              "<polygon fill=\"black\" stroke=\"black\" points=\"443.99,-42.52 450.98,-34.56 440.55,-36.42 443.99,-42.52\"/>\n",
              "</g>\n",
              "<!-- 5 -->\n",
              "<g id=\"node6\" class=\"node\">\n",
              "<title>5</title>\n",
              "<ellipse fill=\"none\" stroke=\"black\" cx=\"622.53\" cy=\"-18\" rx=\"75.02\" ry=\"18\"/>\n",
              "<text text-anchor=\"middle\" x=\"622.53\" y=\"-12.57\" font-family=\"Times New Roman,serif\" font-size=\"14.00\">(&#39;dangerous&#39;, &#39;JJ&#39;)</text>\n",
              "</g>\n",
              "<!-- 0&#45;&gt;5 -->\n",
              "<g id=\"edge5\" class=\"edge\">\n",
              "<title>0&#45;&gt;5</title>\n",
              "<path fill=\"none\" stroke=\"black\" d=\"M379.27,-82.54C420.54,-71.76 504.59,-49.81 562.23,-34.75\"/>\n",
              "<polygon fill=\"black\" stroke=\"black\" points=\"562.77,-38.23 571.56,-32.31 561,-31.45 562.77,-38.23\"/>\n",
              "</g>\n",
              "</g>\n",
              "</svg>\n"
            ],
            "text/plain": [
              "<graphviz.graphs.Digraph at 0x22d423e6990>"
            ]
          },
          "metadata": {},
          "output_type": "display_data"
        }
      ],
      "source": [
        "dot_source = to_graphviz(tree)\n",
        "display(dot_source)"
      ]
    },
    {
      "cell_type": "markdown",
      "metadata": {
        "id": "9Al43XYJQcHa"
      },
      "source": [
        "# Context Free Grammars"
      ]
    },
    {
      "cell_type": "code",
      "execution_count": 166,
      "metadata": {
        "id": "5ZU_Lx9KQfpR"
      },
      "outputs": [],
      "source": [
        "groucho_grammar = nltk.CFG.fromstring(\"\"\"\n",
        "S -> NP VP\n",
        "PP -> P NP\n",
        "NP -> Det N | Det N PP | 'I'\n",
        "VP -> V NP | VP PP\n",
        "Det -> 'an' | 'my'\n",
        "N -> 'elephant' | 'pajamas'\n",
        "V -> 'shot'\n",
        "P -> 'in'\n",
        "\"\"\")"
      ]
    },
    {
      "cell_type": "code",
      "execution_count": 167,
      "metadata": {
        "colab": {
          "base_uri": "https://localhost:8080/"
        },
        "id": "37YmtRgjU5MI",
        "outputId": "2771381d-49fd-4d5b-f2d7-584316995fb4"
      },
      "outputs": [
        {
          "data": {
            "text/plain": [
              "<Grammar with 13 productions>"
            ]
          },
          "execution_count": 167,
          "metadata": {},
          "output_type": "execute_result"
        }
      ],
      "source": [
        "groucho_grammar"
      ]
    },
    {
      "cell_type": "code",
      "execution_count": 168,
      "metadata": {
        "colab": {
          "base_uri": "https://localhost:8080/"
        },
        "id": "CTnE0m_pU9du",
        "outputId": "afca0453-b65a-4135-947b-49fded967baa"
      },
      "outputs": [
        {
          "data": {
            "text/plain": [
              "nltk.grammar.CFG"
            ]
          },
          "execution_count": 168,
          "metadata": {},
          "output_type": "execute_result"
        }
      ],
      "source": [
        "type(groucho_grammar)"
      ]
    },
    {
      "cell_type": "code",
      "execution_count": 169,
      "metadata": {
        "colab": {
          "base_uri": "https://localhost:8080/"
        },
        "id": "550ty8_7VBsE",
        "outputId": "3ee5e11c-0130-44fa-a1e6-7e44bd780eda"
      },
      "outputs": [
        {
          "data": {
            "text/plain": [
              "S"
            ]
          },
          "execution_count": 169,
          "metadata": {},
          "output_type": "execute_result"
        }
      ],
      "source": [
        "groucho_grammar.start()"
      ]
    },
    {
      "cell_type": "code",
      "execution_count": 170,
      "metadata": {
        "colab": {
          "base_uri": "https://localhost:8080/"
        },
        "id": "7fgAwv6aVGqS",
        "outputId": "6df2f4f0-6d24-454c-d0b0-eb06b58e5dcb"
      },
      "outputs": [
        {
          "data": {
            "text/plain": [
              "[S -> NP VP,\n",
              " PP -> P NP,\n",
              " NP -> Det N,\n",
              " NP -> Det N PP,\n",
              " NP -> 'I',\n",
              " VP -> V NP,\n",
              " VP -> VP PP,\n",
              " Det -> 'an',\n",
              " Det -> 'my',\n",
              " N -> 'elephant',\n",
              " N -> 'pajamas',\n",
              " V -> 'shot',\n",
              " P -> 'in']"
            ]
          },
          "execution_count": 170,
          "metadata": {},
          "output_type": "execute_result"
        }
      ],
      "source": [
        "groucho_grammar.productions()"
      ]
    },
    {
      "cell_type": "code",
      "execution_count": 171,
      "metadata": {
        "colab": {
          "base_uri": "https://localhost:8080/"
        },
        "id": "TgqH215vVOVD",
        "outputId": "8b2da85d-c60e-4091-9627-92c34963302d"
      },
      "outputs": [
        {
          "data": {
            "text/plain": [
              "[NP -> Det N, NP -> Det N PP, NP -> 'I']"
            ]
          },
          "execution_count": 171,
          "metadata": {},
          "output_type": "execute_result"
        }
      ],
      "source": [
        "from nltk.grammar import *\n",
        "groucho_grammar.productions(lhs=Nonterminal(\"NP\"))"
      ]
    },
    {
      "cell_type": "code",
      "execution_count": 172,
      "metadata": {
        "colab": {
          "base_uri": "https://localhost:8080/"
        },
        "id": "wyP60QFDVZGH",
        "outputId": "47a4356c-6b51-45ba-96ca-a9e06c05d064"
      },
      "outputs": [
        {
          "data": {
            "text/plain": [
              "[NP -> Det N, NP -> Det N PP]"
            ]
          },
          "execution_count": 172,
          "metadata": {},
          "output_type": "execute_result"
        }
      ],
      "source": [
        "groucho_grammar.productions(rhs=Nonterminal(\"Det\"))"
      ]
    },
    {
      "cell_type": "code",
      "execution_count": 173,
      "metadata": {
        "colab": {
          "base_uri": "https://localhost:8080/"
        },
        "id": "Ga96wglKVghF",
        "outputId": "413fa554-ba51-4f6b-f719-4590f6156a33"
      },
      "outputs": [
        {
          "data": {
            "text/plain": [
              "NP -> Det N"
            ]
          },
          "execution_count": 173,
          "metadata": {},
          "output_type": "execute_result"
        }
      ],
      "source": [
        "pp = groucho_grammar.productions(rhs=Nonterminal(\"Det\"))\n",
        "pp[0]"
      ]
    },
    {
      "cell_type": "code",
      "execution_count": 174,
      "metadata": {
        "colab": {
          "base_uri": "https://localhost:8080/"
        },
        "id": "vLqQyvoeVkIP",
        "outputId": "6f251b25-7f59-4980-85d3-2622d8c9e83e"
      },
      "outputs": [
        {
          "data": {
            "text/plain": [
              "NP"
            ]
          },
          "execution_count": 174,
          "metadata": {},
          "output_type": "execute_result"
        }
      ],
      "source": [
        "pp[0].lhs()"
      ]
    },
    {
      "cell_type": "code",
      "execution_count": 175,
      "metadata": {
        "colab": {
          "base_uri": "https://localhost:8080/"
        },
        "id": "qFozpl-0VlDg",
        "outputId": "8a5c8d7f-2f3e-423d-8367-b7748e606972"
      },
      "outputs": [
        {
          "data": {
            "text/plain": [
              "(Det, N)"
            ]
          },
          "execution_count": 175,
          "metadata": {},
          "output_type": "execute_result"
        }
      ],
      "source": [
        "pp[0].rhs()"
      ]
    },
    {
      "cell_type": "code",
      "execution_count": 176,
      "metadata": {
        "id": "4GYPHp2oVmJ9"
      },
      "outputs": [],
      "source": [
        "sent = ['I', 'shot', 'an', 'elephant', 'in', 'my', 'pajamas']\n",
        "parser = nltk.ChartParser(groucho_grammar)\n",
        "trees = list(parser.parse(sent))"
      ]
    },
    {
      "cell_type": "code",
      "execution_count": 177,
      "metadata": {
        "colab": {
          "base_uri": "https://localhost:8080/"
        },
        "id": "IGtVqmqTV1J9",
        "outputId": "14c3b8ec-8ac5-46fa-c9fd-834e4f0b3bb8"
      },
      "outputs": [
        {
          "name": "stdout",
          "output_type": "stream",
          "text": [
            "(S\n",
            "  (NP I)\n",
            "  (VP\n",
            "    (VP (V shot) (NP (Det an) (N elephant)))\n",
            "    (PP (P in) (NP (Det my) (N pajamas)))))\n"
          ]
        }
      ],
      "source": [
        "print(trees[0])"
      ]
    },
    {
      "cell_type": "code",
      "execution_count": 178,
      "metadata": {
        "colab": {
          "base_uri": "https://localhost:8080/",
          "height": 580
        },
        "id": "GDRAubcIV6DZ",
        "outputId": "e3e0bcab-d08d-42a6-fbe7-150dfb14c79a"
      },
      "outputs": [
        {
          "data": {
            "image/svg+xml": [
              "<?xml version=\"1.0\" encoding=\"UTF-8\" standalone=\"no\"?>\n",
              "<!DOCTYPE svg PUBLIC \"-//W3C//DTD SVG 1.1//EN\"\n",
              " \"http://www.w3.org/Graphics/SVG/1.1/DTD/svg11.dtd\">\n",
              "<!-- Generated by graphviz version 9.0.0 (20230911.1827)\n",
              " -->\n",
              "<!-- Pages: 1 -->\n",
              "<svg width=\"446pt\" height=\"404pt\"\n",
              " viewBox=\"0.00 0.00 445.58 404.00\" xmlns=\"http://www.w3.org/2000/svg\" xmlns:xlink=\"http://www.w3.org/1999/xlink\">\n",
              "<g id=\"graph0\" class=\"graph\" transform=\"scale(1 1) rotate(0) translate(4 400)\">\n",
              "<polygon fill=\"white\" stroke=\"none\" points=\"-4,4 -4,-400 441.58,-400 441.58,4 -4,4\"/>\n",
              "<!-- 0 -->\n",
              "<g id=\"node1\" class=\"node\">\n",
              "<title>0</title>\n",
              "<ellipse fill=\"none\" stroke=\"black\" cx=\"99\" cy=\"-378\" rx=\"27\" ry=\"18\"/>\n",
              "<text text-anchor=\"middle\" x=\"99\" y=\"-372.57\" font-family=\"Times New Roman,serif\" font-size=\"14.00\">S</text>\n",
              "</g>\n",
              "<!-- 1 -->\n",
              "<g id=\"node2\" class=\"node\">\n",
              "<title>1</title>\n",
              "<ellipse fill=\"none\" stroke=\"black\" cx=\"63\" cy=\"-306\" rx=\"27\" ry=\"18\"/>\n",
              "<text text-anchor=\"middle\" x=\"63\" y=\"-300.57\" font-family=\"Times New Roman,serif\" font-size=\"14.00\">NP</text>\n",
              "</g>\n",
              "<!-- 0&#45;&gt;1 -->\n",
              "<g id=\"edge1\" class=\"edge\">\n",
              "<title>0&#45;&gt;1</title>\n",
              "<path fill=\"none\" stroke=\"black\" d=\"M90.65,-360.76C86.42,-352.55 81.19,-342.37 76.42,-333.09\"/>\n",
              "<polygon fill=\"black\" stroke=\"black\" points=\"79.68,-331.79 72,-324.49 73.46,-334.99 79.68,-331.79\"/>\n",
              "</g>\n",
              "<!-- 3 -->\n",
              "<g id=\"node4\" class=\"node\">\n",
              "<title>3</title>\n",
              "<ellipse fill=\"none\" stroke=\"black\" cx=\"135\" cy=\"-306\" rx=\"27\" ry=\"18\"/>\n",
              "<text text-anchor=\"middle\" x=\"135\" y=\"-300.57\" font-family=\"Times New Roman,serif\" font-size=\"14.00\">VP</text>\n",
              "</g>\n",
              "<!-- 0&#45;&gt;3 -->\n",
              "<g id=\"edge3\" class=\"edge\">\n",
              "<title>0&#45;&gt;3</title>\n",
              "<path fill=\"none\" stroke=\"black\" d=\"M107.35,-360.76C111.58,-352.55 116.81,-342.37 121.58,-333.09\"/>\n",
              "<polygon fill=\"black\" stroke=\"black\" points=\"124.54,-334.99 126,-324.49 118.32,-331.79 124.54,-334.99\"/>\n",
              "</g>\n",
              "<!-- 2 -->\n",
              "<g id=\"node3\" class=\"node\">\n",
              "<title>2</title>\n",
              "<ellipse fill=\"none\" stroke=\"black\" cx=\"63\" cy=\"-234\" rx=\"27\" ry=\"18\"/>\n",
              "<text text-anchor=\"middle\" x=\"63\" y=\"-228.57\" font-family=\"Times New Roman,serif\" font-size=\"14.00\">I</text>\n",
              "</g>\n",
              "<!-- 1&#45;&gt;2 -->\n",
              "<g id=\"edge2\" class=\"edge\">\n",
              "<title>1&#45;&gt;2</title>\n",
              "<path fill=\"none\" stroke=\"black\" d=\"M63,-287.7C63,-280.41 63,-271.73 63,-263.54\"/>\n",
              "<polygon fill=\"black\" stroke=\"black\" points=\"66.5,-263.62 63,-253.62 59.5,-263.62 66.5,-263.62\"/>\n",
              "</g>\n",
              "<!-- 4 -->\n",
              "<g id=\"node5\" class=\"node\">\n",
              "<title>4</title>\n",
              "<ellipse fill=\"none\" stroke=\"black\" cx=\"135\" cy=\"-234\" rx=\"27\" ry=\"18\"/>\n",
              "<text text-anchor=\"middle\" x=\"135\" y=\"-228.57\" font-family=\"Times New Roman,serif\" font-size=\"14.00\">VP</text>\n",
              "</g>\n",
              "<!-- 3&#45;&gt;4 -->\n",
              "<g id=\"edge4\" class=\"edge\">\n",
              "<title>3&#45;&gt;4</title>\n",
              "<path fill=\"none\" stroke=\"black\" d=\"M135,-287.7C135,-280.41 135,-271.73 135,-263.54\"/>\n",
              "<polygon fill=\"black\" stroke=\"black\" points=\"138.5,-263.62 135,-253.62 131.5,-263.62 138.5,-263.62\"/>\n",
              "</g>\n",
              "<!-- 12 -->\n",
              "<g id=\"node13\" class=\"node\">\n",
              "<title>12</title>\n",
              "<ellipse fill=\"none\" stroke=\"black\" cx=\"243\" cy=\"-234\" rx=\"27\" ry=\"18\"/>\n",
              "<text text-anchor=\"middle\" x=\"243\" y=\"-228.57\" font-family=\"Times New Roman,serif\" font-size=\"14.00\">PP</text>\n",
              "</g>\n",
              "<!-- 3&#45;&gt;12 -->\n",
              "<g id=\"edge12\" class=\"edge\">\n",
              "<title>3&#45;&gt;12</title>\n",
              "<path fill=\"none\" stroke=\"black\" d=\"M153.81,-292.81C170.59,-281.93 195.39,-265.86 214.59,-253.42\"/>\n",
              "<polygon fill=\"black\" stroke=\"black\" points=\"216.28,-256.49 222.77,-248.11 212.48,-250.61 216.28,-256.49\"/>\n",
              "</g>\n",
              "<!-- 5 -->\n",
              "<g id=\"node6\" class=\"node\">\n",
              "<title>5</title>\n",
              "<ellipse fill=\"none\" stroke=\"black\" cx=\"63\" cy=\"-162\" rx=\"27\" ry=\"18\"/>\n",
              "<text text-anchor=\"middle\" x=\"63\" y=\"-156.57\" font-family=\"Times New Roman,serif\" font-size=\"14.00\">V</text>\n",
              "</g>\n",
              "<!-- 4&#45;&gt;5 -->\n",
              "<g id=\"edge5\" class=\"edge\">\n",
              "<title>4&#45;&gt;5</title>\n",
              "<path fill=\"none\" stroke=\"black\" d=\"M120.08,-218.5C110.23,-208.92 97.14,-196.19 85.97,-185.34\"/>\n",
              "<polygon fill=\"black\" stroke=\"black\" points=\"88.59,-183 78.98,-178.54 83.71,-188.02 88.59,-183\"/>\n",
              "</g>\n",
              "<!-- 7 -->\n",
              "<g id=\"node8\" class=\"node\">\n",
              "<title>7</title>\n",
              "<ellipse fill=\"none\" stroke=\"black\" cx=\"135\" cy=\"-162\" rx=\"27\" ry=\"18\"/>\n",
              "<text text-anchor=\"middle\" x=\"135\" y=\"-156.57\" font-family=\"Times New Roman,serif\" font-size=\"14.00\">NP</text>\n",
              "</g>\n",
              "<!-- 4&#45;&gt;7 -->\n",
              "<g id=\"edge7\" class=\"edge\">\n",
              "<title>4&#45;&gt;7</title>\n",
              "<path fill=\"none\" stroke=\"black\" d=\"M135,-215.7C135,-208.41 135,-199.73 135,-191.54\"/>\n",
              "<polygon fill=\"black\" stroke=\"black\" points=\"138.5,-191.62 135,-181.62 131.5,-191.62 138.5,-191.62\"/>\n",
              "</g>\n",
              "<!-- 6 -->\n",
              "<g id=\"node7\" class=\"node\">\n",
              "<title>6</title>\n",
              "<ellipse fill=\"none\" stroke=\"black\" cx=\"27\" cy=\"-90\" rx=\"27\" ry=\"18\"/>\n",
              "<text text-anchor=\"middle\" x=\"27\" y=\"-84.58\" font-family=\"Times New Roman,serif\" font-size=\"14.00\">shot</text>\n",
              "</g>\n",
              "<!-- 5&#45;&gt;6 -->\n",
              "<g id=\"edge6\" class=\"edge\">\n",
              "<title>5&#45;&gt;6</title>\n",
              "<path fill=\"none\" stroke=\"black\" d=\"M54.65,-144.76C50.42,-136.55 45.19,-126.37 40.42,-117.09\"/>\n",
              "<polygon fill=\"black\" stroke=\"black\" points=\"43.68,-115.79 36,-108.49 37.46,-118.99 43.68,-115.79\"/>\n",
              "</g>\n",
              "<!-- 8 -->\n",
              "<g id=\"node9\" class=\"node\">\n",
              "<title>8</title>\n",
              "<ellipse fill=\"none\" stroke=\"black\" cx=\"99\" cy=\"-90\" rx=\"27\" ry=\"18\"/>\n",
              "<text text-anchor=\"middle\" x=\"99\" y=\"-84.58\" font-family=\"Times New Roman,serif\" font-size=\"14.00\">Det</text>\n",
              "</g>\n",
              "<!-- 7&#45;&gt;8 -->\n",
              "<g id=\"edge8\" class=\"edge\">\n",
              "<title>7&#45;&gt;8</title>\n",
              "<path fill=\"none\" stroke=\"black\" d=\"M126.65,-144.76C122.42,-136.55 117.19,-126.37 112.42,-117.09\"/>\n",
              "<polygon fill=\"black\" stroke=\"black\" points=\"115.68,-115.79 108,-108.49 109.46,-118.99 115.68,-115.79\"/>\n",
              "</g>\n",
              "<!-- 10 -->\n",
              "<g id=\"node11\" class=\"node\">\n",
              "<title>10</title>\n",
              "<ellipse fill=\"none\" stroke=\"black\" cx=\"171\" cy=\"-90\" rx=\"27\" ry=\"18\"/>\n",
              "<text text-anchor=\"middle\" x=\"171\" y=\"-84.58\" font-family=\"Times New Roman,serif\" font-size=\"14.00\">N</text>\n",
              "</g>\n",
              "<!-- 7&#45;&gt;10 -->\n",
              "<g id=\"edge10\" class=\"edge\">\n",
              "<title>7&#45;&gt;10</title>\n",
              "<path fill=\"none\" stroke=\"black\" d=\"M143.35,-144.76C147.58,-136.55 152.81,-126.37 157.58,-117.09\"/>\n",
              "<polygon fill=\"black\" stroke=\"black\" points=\"160.54,-118.99 162,-108.49 154.32,-115.79 160.54,-118.99\"/>\n",
              "</g>\n",
              "<!-- 9 -->\n",
              "<g id=\"node10\" class=\"node\">\n",
              "<title>9</title>\n",
              "<ellipse fill=\"none\" stroke=\"black\" cx=\"92\" cy=\"-18\" rx=\"27\" ry=\"18\"/>\n",
              "<text text-anchor=\"middle\" x=\"92\" y=\"-12.57\" font-family=\"Times New Roman,serif\" font-size=\"14.00\">an</text>\n",
              "</g>\n",
              "<!-- 8&#45;&gt;9 -->\n",
              "<g id=\"edge9\" class=\"edge\">\n",
              "<title>8&#45;&gt;9</title>\n",
              "<path fill=\"none\" stroke=\"black\" d=\"M97.27,-71.7C96.54,-64.41 95.67,-55.73 94.85,-47.54\"/>\n",
              "<polygon fill=\"black\" stroke=\"black\" points=\"98.34,-47.21 93.86,-37.61 91.37,-47.91 98.34,-47.21\"/>\n",
              "</g>\n",
              "<!-- 11 -->\n",
              "<g id=\"node12\" class=\"node\">\n",
              "<title>11</title>\n",
              "<ellipse fill=\"none\" stroke=\"black\" cx=\"178\" cy=\"-18\" rx=\"41.08\" ry=\"18\"/>\n",
              "<text text-anchor=\"middle\" x=\"178\" y=\"-12.57\" font-family=\"Times New Roman,serif\" font-size=\"14.00\">elephant</text>\n",
              "</g>\n",
              "<!-- 10&#45;&gt;11 -->\n",
              "<g id=\"edge11\" class=\"edge\">\n",
              "<title>10&#45;&gt;11</title>\n",
              "<path fill=\"none\" stroke=\"black\" d=\"M172.73,-71.7C173.46,-64.41 174.33,-55.73 175.15,-47.54\"/>\n",
              "<polygon fill=\"black\" stroke=\"black\" points=\"178.63,-47.91 176.14,-37.61 171.66,-47.21 178.63,-47.91\"/>\n",
              "</g>\n",
              "<!-- 13 -->\n",
              "<g id=\"node14\" class=\"node\">\n",
              "<title>13</title>\n",
              "<ellipse fill=\"none\" stroke=\"black\" cx=\"243\" cy=\"-162\" rx=\"27\" ry=\"18\"/>\n",
              "<text text-anchor=\"middle\" x=\"243\" y=\"-156.57\" font-family=\"Times New Roman,serif\" font-size=\"14.00\">P</text>\n",
              "</g>\n",
              "<!-- 12&#45;&gt;13 -->\n",
              "<g id=\"edge13\" class=\"edge\">\n",
              "<title>12&#45;&gt;13</title>\n",
              "<path fill=\"none\" stroke=\"black\" d=\"M243,-215.7C243,-208.41 243,-199.73 243,-191.54\"/>\n",
              "<polygon fill=\"black\" stroke=\"black\" points=\"246.5,-191.62 243,-181.62 239.5,-191.62 246.5,-191.62\"/>\n",
              "</g>\n",
              "<!-- 15 -->\n",
              "<g id=\"node16\" class=\"node\">\n",
              "<title>15</title>\n",
              "<ellipse fill=\"none\" stroke=\"black\" cx=\"315\" cy=\"-162\" rx=\"27\" ry=\"18\"/>\n",
              "<text text-anchor=\"middle\" x=\"315\" y=\"-156.57\" font-family=\"Times New Roman,serif\" font-size=\"14.00\">NP</text>\n",
              "</g>\n",
              "<!-- 12&#45;&gt;15 -->\n",
              "<g id=\"edge15\" class=\"edge\">\n",
              "<title>12&#45;&gt;15</title>\n",
              "<path fill=\"none\" stroke=\"black\" d=\"M257.92,-218.5C267.77,-208.92 280.86,-196.19 292.03,-185.34\"/>\n",
              "<polygon fill=\"black\" stroke=\"black\" points=\"294.29,-188.02 299.02,-178.54 289.41,-183 294.29,-188.02\"/>\n",
              "</g>\n",
              "<!-- 14 -->\n",
              "<g id=\"node15\" class=\"node\">\n",
              "<title>14</title>\n",
              "<ellipse fill=\"none\" stroke=\"black\" cx=\"243\" cy=\"-90\" rx=\"27\" ry=\"18\"/>\n",
              "<text text-anchor=\"middle\" x=\"243\" y=\"-84.58\" font-family=\"Times New Roman,serif\" font-size=\"14.00\">in</text>\n",
              "</g>\n",
              "<!-- 13&#45;&gt;14 -->\n",
              "<g id=\"edge14\" class=\"edge\">\n",
              "<title>13&#45;&gt;14</title>\n",
              "<path fill=\"none\" stroke=\"black\" d=\"M243,-143.7C243,-136.41 243,-127.73 243,-119.54\"/>\n",
              "<polygon fill=\"black\" stroke=\"black\" points=\"246.5,-119.62 243,-109.62 239.5,-119.62 246.5,-119.62\"/>\n",
              "</g>\n",
              "<!-- 16 -->\n",
              "<g id=\"node17\" class=\"node\">\n",
              "<title>16</title>\n",
              "<ellipse fill=\"none\" stroke=\"black\" cx=\"315\" cy=\"-90\" rx=\"27\" ry=\"18\"/>\n",
              "<text text-anchor=\"middle\" x=\"315\" y=\"-84.58\" font-family=\"Times New Roman,serif\" font-size=\"14.00\">Det</text>\n",
              "</g>\n",
              "<!-- 15&#45;&gt;16 -->\n",
              "<g id=\"edge16\" class=\"edge\">\n",
              "<title>15&#45;&gt;16</title>\n",
              "<path fill=\"none\" stroke=\"black\" d=\"M315,-143.7C315,-136.41 315,-127.73 315,-119.54\"/>\n",
              "<polygon fill=\"black\" stroke=\"black\" points=\"318.5,-119.62 315,-109.62 311.5,-119.62 318.5,-119.62\"/>\n",
              "</g>\n",
              "<!-- 18 -->\n",
              "<g id=\"node19\" class=\"node\">\n",
              "<title>18</title>\n",
              "<ellipse fill=\"none\" stroke=\"black\" cx=\"394\" cy=\"-90\" rx=\"27\" ry=\"18\"/>\n",
              "<text text-anchor=\"middle\" x=\"394\" y=\"-84.58\" font-family=\"Times New Roman,serif\" font-size=\"14.00\">N</text>\n",
              "</g>\n",
              "<!-- 15&#45;&gt;18 -->\n",
              "<g id=\"edge18\" class=\"edge\">\n",
              "<title>15&#45;&gt;18</title>\n",
              "<path fill=\"none\" stroke=\"black\" d=\"M330.61,-147.17C341.79,-137.26 357.06,-123.73 369.81,-112.43\"/>\n",
              "<polygon fill=\"black\" stroke=\"black\" points=\"371.86,-115.3 377.02,-106.04 367.22,-110.06 371.86,-115.3\"/>\n",
              "</g>\n",
              "<!-- 17 -->\n",
              "<g id=\"node18\" class=\"node\">\n",
              "<title>17</title>\n",
              "<ellipse fill=\"none\" stroke=\"black\" cx=\"311\" cy=\"-18\" rx=\"27\" ry=\"18\"/>\n",
              "<text text-anchor=\"middle\" x=\"311\" y=\"-12.57\" font-family=\"Times New Roman,serif\" font-size=\"14.00\">my</text>\n",
              "</g>\n",
              "<!-- 16&#45;&gt;17 -->\n",
              "<g id=\"edge17\" class=\"edge\">\n",
              "<title>16&#45;&gt;17</title>\n",
              "<path fill=\"none\" stroke=\"black\" d=\"M314.01,-71.7C313.59,-64.41 313.1,-55.73 312.63,-47.54\"/>\n",
              "<polygon fill=\"black\" stroke=\"black\" points=\"316.13,-47.4 312.06,-37.62 309.14,-47.8 316.13,-47.4\"/>\n",
              "</g>\n",
              "<!-- 19 -->\n",
              "<g id=\"node20\" class=\"node\">\n",
              "<title>19</title>\n",
              "<ellipse fill=\"none\" stroke=\"black\" cx=\"397\" cy=\"-18\" rx=\"40.58\" ry=\"18\"/>\n",
              "<text text-anchor=\"middle\" x=\"397\" y=\"-12.57\" font-family=\"Times New Roman,serif\" font-size=\"14.00\">pajamas</text>\n",
              "</g>\n",
              "<!-- 18&#45;&gt;19 -->\n",
              "<g id=\"edge19\" class=\"edge\">\n",
              "<title>18&#45;&gt;19</title>\n",
              "<path fill=\"none\" stroke=\"black\" d=\"M394.74,-71.7C395.05,-64.41 395.43,-55.73 395.78,-47.54\"/>\n",
              "<polygon fill=\"black\" stroke=\"black\" points=\"399.27,-47.76 396.2,-37.62 392.28,-47.46 399.27,-47.76\"/>\n",
              "</g>\n",
              "</g>\n",
              "</svg>\n"
            ],
            "text/plain": [
              "<graphviz.graphs.Digraph at 0x22d445d3390>"
            ]
          },
          "metadata": {},
          "output_type": "display_data"
        }
      ],
      "source": [
        "dot_source = to_graphviz(trees[0])\n",
        "display(dot_source)"
      ]
    },
    {
      "cell_type": "code",
      "execution_count": 179,
      "metadata": {
        "colab": {
          "base_uri": "https://localhost:8080/"
        },
        "id": "djQDfJ97V8lM",
        "outputId": "3d01ad10-f927-4433-cddd-cd96c00052f9"
      },
      "outputs": [
        {
          "name": "stdout",
          "output_type": "stream",
          "text": [
            "(S\n",
            "  (NP I)\n",
            "  (VP\n",
            "    (V shot)\n",
            "    (NP (Det an) (N elephant) (PP (P in) (NP (Det my) (N pajamas))))))\n"
          ]
        }
      ],
      "source": [
        "print(trees[1])"
      ]
    },
    {
      "cell_type": "code",
      "execution_count": 180,
      "metadata": {
        "colab": {
          "base_uri": "https://localhost:8080/",
          "height": 677
        },
        "id": "nyWXwcerWETq",
        "outputId": "c7e51a83-3922-46ce-f5db-a293c1e6b325"
      },
      "outputs": [
        {
          "data": {
            "image/svg+xml": [
              "<?xml version=\"1.0\" encoding=\"UTF-8\" standalone=\"no\"?>\n",
              "<!DOCTYPE svg PUBLIC \"-//W3C//DTD SVG 1.1//EN\"\n",
              " \"http://www.w3.org/Graphics/SVG/1.1/DTD/svg11.dtd\">\n",
              "<!-- Generated by graphviz version 9.0.0 (20230911.1827)\n",
              " -->\n",
              "<!-- Pages: 1 -->\n",
              "<svg width=\"532pt\" height=\"476pt\"\n",
              " viewBox=\"0.00 0.00 531.58 476.00\" xmlns=\"http://www.w3.org/2000/svg\" xmlns:xlink=\"http://www.w3.org/1999/xlink\">\n",
              "<g id=\"graph0\" class=\"graph\" transform=\"scale(1 1) rotate(0) translate(4 472)\">\n",
              "<polygon fill=\"white\" stroke=\"none\" points=\"-4,4 -4,-472 527.58,-472 527.58,4 -4,4\"/>\n",
              "<!-- 0 -->\n",
              "<g id=\"node1\" class=\"node\">\n",
              "<title>0</title>\n",
              "<ellipse fill=\"none\" stroke=\"black\" cx=\"63\" cy=\"-450\" rx=\"27\" ry=\"18\"/>\n",
              "<text text-anchor=\"middle\" x=\"63\" y=\"-444.57\" font-family=\"Times New Roman,serif\" font-size=\"14.00\">S</text>\n",
              "</g>\n",
              "<!-- 1 -->\n",
              "<g id=\"node2\" class=\"node\">\n",
              "<title>1</title>\n",
              "<ellipse fill=\"none\" stroke=\"black\" cx=\"27\" cy=\"-378\" rx=\"27\" ry=\"18\"/>\n",
              "<text text-anchor=\"middle\" x=\"27\" y=\"-372.57\" font-family=\"Times New Roman,serif\" font-size=\"14.00\">NP</text>\n",
              "</g>\n",
              "<!-- 0&#45;&gt;1 -->\n",
              "<g id=\"edge1\" class=\"edge\">\n",
              "<title>0&#45;&gt;1</title>\n",
              "<path fill=\"none\" stroke=\"black\" d=\"M54.65,-432.76C50.42,-424.55 45.19,-414.37 40.42,-405.09\"/>\n",
              "<polygon fill=\"black\" stroke=\"black\" points=\"43.68,-403.79 36,-396.49 37.46,-406.99 43.68,-403.79\"/>\n",
              "</g>\n",
              "<!-- 3 -->\n",
              "<g id=\"node4\" class=\"node\">\n",
              "<title>3</title>\n",
              "<ellipse fill=\"none\" stroke=\"black\" cx=\"99\" cy=\"-378\" rx=\"27\" ry=\"18\"/>\n",
              "<text text-anchor=\"middle\" x=\"99\" y=\"-372.57\" font-family=\"Times New Roman,serif\" font-size=\"14.00\">VP</text>\n",
              "</g>\n",
              "<!-- 0&#45;&gt;3 -->\n",
              "<g id=\"edge3\" class=\"edge\">\n",
              "<title>0&#45;&gt;3</title>\n",
              "<path fill=\"none\" stroke=\"black\" d=\"M71.35,-432.76C75.58,-424.55 80.81,-414.37 85.58,-405.09\"/>\n",
              "<polygon fill=\"black\" stroke=\"black\" points=\"88.54,-406.99 90,-396.49 82.32,-403.79 88.54,-406.99\"/>\n",
              "</g>\n",
              "<!-- 2 -->\n",
              "<g id=\"node3\" class=\"node\">\n",
              "<title>2</title>\n",
              "<ellipse fill=\"none\" stroke=\"black\" cx=\"27\" cy=\"-306\" rx=\"27\" ry=\"18\"/>\n",
              "<text text-anchor=\"middle\" x=\"27\" y=\"-300.57\" font-family=\"Times New Roman,serif\" font-size=\"14.00\">I</text>\n",
              "</g>\n",
              "<!-- 1&#45;&gt;2 -->\n",
              "<g id=\"edge2\" class=\"edge\">\n",
              "<title>1&#45;&gt;2</title>\n",
              "<path fill=\"none\" stroke=\"black\" d=\"M27,-359.7C27,-352.41 27,-343.73 27,-335.54\"/>\n",
              "<polygon fill=\"black\" stroke=\"black\" points=\"30.5,-335.62 27,-325.62 23.5,-335.62 30.5,-335.62\"/>\n",
              "</g>\n",
              "<!-- 4 -->\n",
              "<g id=\"node5\" class=\"node\">\n",
              "<title>4</title>\n",
              "<ellipse fill=\"none\" stroke=\"black\" cx=\"99\" cy=\"-306\" rx=\"27\" ry=\"18\"/>\n",
              "<text text-anchor=\"middle\" x=\"99\" y=\"-300.57\" font-family=\"Times New Roman,serif\" font-size=\"14.00\">V</text>\n",
              "</g>\n",
              "<!-- 3&#45;&gt;4 -->\n",
              "<g id=\"edge4\" class=\"edge\">\n",
              "<title>3&#45;&gt;4</title>\n",
              "<path fill=\"none\" stroke=\"black\" d=\"M99,-359.7C99,-352.41 99,-343.73 99,-335.54\"/>\n",
              "<polygon fill=\"black\" stroke=\"black\" points=\"102.5,-335.62 99,-325.62 95.5,-335.62 102.5,-335.62\"/>\n",
              "</g>\n",
              "<!-- 6 -->\n",
              "<g id=\"node7\" class=\"node\">\n",
              "<title>6</title>\n",
              "<ellipse fill=\"none\" stroke=\"black\" cx=\"207\" cy=\"-306\" rx=\"27\" ry=\"18\"/>\n",
              "<text text-anchor=\"middle\" x=\"207\" y=\"-300.57\" font-family=\"Times New Roman,serif\" font-size=\"14.00\">NP</text>\n",
              "</g>\n",
              "<!-- 3&#45;&gt;6 -->\n",
              "<g id=\"edge6\" class=\"edge\">\n",
              "<title>3&#45;&gt;6</title>\n",
              "<path fill=\"none\" stroke=\"black\" d=\"M117.81,-364.81C134.59,-353.93 159.39,-337.86 178.59,-325.42\"/>\n",
              "<polygon fill=\"black\" stroke=\"black\" points=\"180.28,-328.49 186.77,-320.11 176.48,-322.61 180.28,-328.49\"/>\n",
              "</g>\n",
              "<!-- 5 -->\n",
              "<g id=\"node6\" class=\"node\">\n",
              "<title>5</title>\n",
              "<ellipse fill=\"none\" stroke=\"black\" cx=\"99\" cy=\"-234\" rx=\"27\" ry=\"18\"/>\n",
              "<text text-anchor=\"middle\" x=\"99\" y=\"-228.57\" font-family=\"Times New Roman,serif\" font-size=\"14.00\">shot</text>\n",
              "</g>\n",
              "<!-- 4&#45;&gt;5 -->\n",
              "<g id=\"edge5\" class=\"edge\">\n",
              "<title>4&#45;&gt;5</title>\n",
              "<path fill=\"none\" stroke=\"black\" d=\"M99,-287.7C99,-280.41 99,-271.73 99,-263.54\"/>\n",
              "<polygon fill=\"black\" stroke=\"black\" points=\"102.5,-263.62 99,-253.62 95.5,-263.62 102.5,-263.62\"/>\n",
              "</g>\n",
              "<!-- 7 -->\n",
              "<g id=\"node8\" class=\"node\">\n",
              "<title>7</title>\n",
              "<ellipse fill=\"none\" stroke=\"black\" cx=\"171\" cy=\"-234\" rx=\"27\" ry=\"18\"/>\n",
              "<text text-anchor=\"middle\" x=\"171\" y=\"-228.57\" font-family=\"Times New Roman,serif\" font-size=\"14.00\">Det</text>\n",
              "</g>\n",
              "<!-- 6&#45;&gt;7 -->\n",
              "<g id=\"edge7\" class=\"edge\">\n",
              "<title>6&#45;&gt;7</title>\n",
              "<path fill=\"none\" stroke=\"black\" d=\"M198.65,-288.76C194.42,-280.55 189.19,-270.37 184.42,-261.09\"/>\n",
              "<polygon fill=\"black\" stroke=\"black\" points=\"187.68,-259.79 180,-252.49 181.46,-262.99 187.68,-259.79\"/>\n",
              "</g>\n",
              "<!-- 9 -->\n",
              "<g id=\"node10\" class=\"node\">\n",
              "<title>9</title>\n",
              "<ellipse fill=\"none\" stroke=\"black\" cx=\"243\" cy=\"-234\" rx=\"27\" ry=\"18\"/>\n",
              "<text text-anchor=\"middle\" x=\"243\" y=\"-228.57\" font-family=\"Times New Roman,serif\" font-size=\"14.00\">N</text>\n",
              "</g>\n",
              "<!-- 6&#45;&gt;9 -->\n",
              "<g id=\"edge9\" class=\"edge\">\n",
              "<title>6&#45;&gt;9</title>\n",
              "<path fill=\"none\" stroke=\"black\" d=\"M215.35,-288.76C219.58,-280.55 224.81,-270.37 229.58,-261.09\"/>\n",
              "<polygon fill=\"black\" stroke=\"black\" points=\"232.54,-262.99 234,-252.49 226.32,-259.79 232.54,-262.99\"/>\n",
              "</g>\n",
              "<!-- 11 -->\n",
              "<g id=\"node12\" class=\"node\">\n",
              "<title>11</title>\n",
              "<ellipse fill=\"none\" stroke=\"black\" cx=\"329\" cy=\"-234\" rx=\"27\" ry=\"18\"/>\n",
              "<text text-anchor=\"middle\" x=\"329\" y=\"-228.57\" font-family=\"Times New Roman,serif\" font-size=\"14.00\">PP</text>\n",
              "</g>\n",
              "<!-- 6&#45;&gt;11 -->\n",
              "<g id=\"edge11\" class=\"edge\">\n",
              "<title>6&#45;&gt;11</title>\n",
              "<path fill=\"none\" stroke=\"black\" d=\"M227.15,-293.44C246.78,-282.18 276.86,-264.92 299.24,-252.07\"/>\n",
              "<polygon fill=\"black\" stroke=\"black\" points=\"300.98,-255.11 307.92,-247.1 297.5,-249.04 300.98,-255.11\"/>\n",
              "</g>\n",
              "<!-- 8 -->\n",
              "<g id=\"node9\" class=\"node\">\n",
              "<title>8</title>\n",
              "<ellipse fill=\"none\" stroke=\"black\" cx=\"157\" cy=\"-162\" rx=\"27\" ry=\"18\"/>\n",
              "<text text-anchor=\"middle\" x=\"157\" y=\"-156.57\" font-family=\"Times New Roman,serif\" font-size=\"14.00\">an</text>\n",
              "</g>\n",
              "<!-- 7&#45;&gt;8 -->\n",
              "<g id=\"edge8\" class=\"edge\">\n",
              "<title>7&#45;&gt;8</title>\n",
              "<path fill=\"none\" stroke=\"black\" d=\"M167.54,-215.7C166.06,-208.32 164.3,-199.52 162.65,-191.25\"/>\n",
              "<polygon fill=\"black\" stroke=\"black\" points=\"166.11,-190.71 160.72,-181.59 159.25,-192.08 166.11,-190.71\"/>\n",
              "</g>\n",
              "<!-- 10 -->\n",
              "<g id=\"node11\" class=\"node\">\n",
              "<title>10</title>\n",
              "<ellipse fill=\"none\" stroke=\"black\" cx=\"243\" cy=\"-162\" rx=\"41.08\" ry=\"18\"/>\n",
              "<text text-anchor=\"middle\" x=\"243\" y=\"-156.57\" font-family=\"Times New Roman,serif\" font-size=\"14.00\">elephant</text>\n",
              "</g>\n",
              "<!-- 9&#45;&gt;10 -->\n",
              "<g id=\"edge10\" class=\"edge\">\n",
              "<title>9&#45;&gt;10</title>\n",
              "<path fill=\"none\" stroke=\"black\" d=\"M243,-215.7C243,-208.41 243,-199.73 243,-191.54\"/>\n",
              "<polygon fill=\"black\" stroke=\"black\" points=\"246.5,-191.62 243,-181.62 239.5,-191.62 246.5,-191.62\"/>\n",
              "</g>\n",
              "<!-- 12 -->\n",
              "<g id=\"node13\" class=\"node\">\n",
              "<title>12</title>\n",
              "<ellipse fill=\"none\" stroke=\"black\" cx=\"329\" cy=\"-162\" rx=\"27\" ry=\"18\"/>\n",
              "<text text-anchor=\"middle\" x=\"329\" y=\"-156.57\" font-family=\"Times New Roman,serif\" font-size=\"14.00\">P</text>\n",
              "</g>\n",
              "<!-- 11&#45;&gt;12 -->\n",
              "<g id=\"edge12\" class=\"edge\">\n",
              "<title>11&#45;&gt;12</title>\n",
              "<path fill=\"none\" stroke=\"black\" d=\"M329,-215.7C329,-208.41 329,-199.73 329,-191.54\"/>\n",
              "<polygon fill=\"black\" stroke=\"black\" points=\"332.5,-191.62 329,-181.62 325.5,-191.62 332.5,-191.62\"/>\n",
              "</g>\n",
              "<!-- 14 -->\n",
              "<g id=\"node15\" class=\"node\">\n",
              "<title>14</title>\n",
              "<ellipse fill=\"none\" stroke=\"black\" cx=\"401\" cy=\"-162\" rx=\"27\" ry=\"18\"/>\n",
              "<text text-anchor=\"middle\" x=\"401\" y=\"-156.57\" font-family=\"Times New Roman,serif\" font-size=\"14.00\">NP</text>\n",
              "</g>\n",
              "<!-- 11&#45;&gt;14 -->\n",
              "<g id=\"edge14\" class=\"edge\">\n",
              "<title>11&#45;&gt;14</title>\n",
              "<path fill=\"none\" stroke=\"black\" d=\"M343.92,-218.5C353.77,-208.92 366.86,-196.19 378.03,-185.34\"/>\n",
              "<polygon fill=\"black\" stroke=\"black\" points=\"380.29,-188.02 385.02,-178.54 375.41,-183 380.29,-188.02\"/>\n",
              "</g>\n",
              "<!-- 13 -->\n",
              "<g id=\"node14\" class=\"node\">\n",
              "<title>13</title>\n",
              "<ellipse fill=\"none\" stroke=\"black\" cx=\"329\" cy=\"-90\" rx=\"27\" ry=\"18\"/>\n",
              "<text text-anchor=\"middle\" x=\"329\" y=\"-84.58\" font-family=\"Times New Roman,serif\" font-size=\"14.00\">in</text>\n",
              "</g>\n",
              "<!-- 12&#45;&gt;13 -->\n",
              "<g id=\"edge13\" class=\"edge\">\n",
              "<title>12&#45;&gt;13</title>\n",
              "<path fill=\"none\" stroke=\"black\" d=\"M329,-143.7C329,-136.41 329,-127.73 329,-119.54\"/>\n",
              "<polygon fill=\"black\" stroke=\"black\" points=\"332.5,-119.62 329,-109.62 325.5,-119.62 332.5,-119.62\"/>\n",
              "</g>\n",
              "<!-- 15 -->\n",
              "<g id=\"node16\" class=\"node\">\n",
              "<title>15</title>\n",
              "<ellipse fill=\"none\" stroke=\"black\" cx=\"401\" cy=\"-90\" rx=\"27\" ry=\"18\"/>\n",
              "<text text-anchor=\"middle\" x=\"401\" y=\"-84.58\" font-family=\"Times New Roman,serif\" font-size=\"14.00\">Det</text>\n",
              "</g>\n",
              "<!-- 14&#45;&gt;15 -->\n",
              "<g id=\"edge15\" class=\"edge\">\n",
              "<title>14&#45;&gt;15</title>\n",
              "<path fill=\"none\" stroke=\"black\" d=\"M401,-143.7C401,-136.41 401,-127.73 401,-119.54\"/>\n",
              "<polygon fill=\"black\" stroke=\"black\" points=\"404.5,-119.62 401,-109.62 397.5,-119.62 404.5,-119.62\"/>\n",
              "</g>\n",
              "<!-- 17 -->\n",
              "<g id=\"node18\" class=\"node\">\n",
              "<title>17</title>\n",
              "<ellipse fill=\"none\" stroke=\"black\" cx=\"480\" cy=\"-90\" rx=\"27\" ry=\"18\"/>\n",
              "<text text-anchor=\"middle\" x=\"480\" y=\"-84.58\" font-family=\"Times New Roman,serif\" font-size=\"14.00\">N</text>\n",
              "</g>\n",
              "<!-- 14&#45;&gt;17 -->\n",
              "<g id=\"edge17\" class=\"edge\">\n",
              "<title>14&#45;&gt;17</title>\n",
              "<path fill=\"none\" stroke=\"black\" d=\"M416.61,-147.17C427.79,-137.26 443.06,-123.73 455.81,-112.43\"/>\n",
              "<polygon fill=\"black\" stroke=\"black\" points=\"457.86,-115.3 463.02,-106.04 453.22,-110.06 457.86,-115.3\"/>\n",
              "</g>\n",
              "<!-- 16 -->\n",
              "<g id=\"node17\" class=\"node\">\n",
              "<title>16</title>\n",
              "<ellipse fill=\"none\" stroke=\"black\" cx=\"397\" cy=\"-18\" rx=\"27\" ry=\"18\"/>\n",
              "<text text-anchor=\"middle\" x=\"397\" y=\"-12.57\" font-family=\"Times New Roman,serif\" font-size=\"14.00\">my</text>\n",
              "</g>\n",
              "<!-- 15&#45;&gt;16 -->\n",
              "<g id=\"edge16\" class=\"edge\">\n",
              "<title>15&#45;&gt;16</title>\n",
              "<path fill=\"none\" stroke=\"black\" d=\"M400.01,-71.7C399.59,-64.41 399.1,-55.73 398.63,-47.54\"/>\n",
              "<polygon fill=\"black\" stroke=\"black\" points=\"402.13,-47.4 398.06,-37.62 395.14,-47.8 402.13,-47.4\"/>\n",
              "</g>\n",
              "<!-- 18 -->\n",
              "<g id=\"node19\" class=\"node\">\n",
              "<title>18</title>\n",
              "<ellipse fill=\"none\" stroke=\"black\" cx=\"483\" cy=\"-18\" rx=\"40.58\" ry=\"18\"/>\n",
              "<text text-anchor=\"middle\" x=\"483\" y=\"-12.57\" font-family=\"Times New Roman,serif\" font-size=\"14.00\">pajamas</text>\n",
              "</g>\n",
              "<!-- 17&#45;&gt;18 -->\n",
              "<g id=\"edge18\" class=\"edge\">\n",
              "<title>17&#45;&gt;18</title>\n",
              "<path fill=\"none\" stroke=\"black\" d=\"M480.74,-71.7C481.05,-64.41 481.43,-55.73 481.78,-47.54\"/>\n",
              "<polygon fill=\"black\" stroke=\"black\" points=\"485.27,-47.76 482.2,-37.62 478.28,-47.46 485.27,-47.76\"/>\n",
              "</g>\n",
              "</g>\n",
              "</svg>\n"
            ],
            "text/plain": [
              "<graphviz.graphs.Digraph at 0x22d4250e210>"
            ]
          },
          "metadata": {},
          "output_type": "display_data"
        }
      ],
      "source": [
        "dot_source = to_graphviz(trees[1])\n",
        "display(dot_source)"
      ]
    },
    {
      "cell_type": "code",
      "execution_count": null,
      "metadata": {
        "id": "jjEYsPivWKrg"
      },
      "outputs": [],
      "source": []
    }
  ],
  "metadata": {
    "colab": {
      "authorship_tag": "ABX9TyOz+RuNOf83ObYoHgGaPxJA",
      "collapsed_sections": [
        "t5WbWUmcB1A_",
        "OfRYU89CB8-u",
        "8ZHXr_x28KMF",
        "wSC1oXA19Mda"
      ],
      "include_colab_link": true,
      "provenance": []
    },
    "kernelspec": {
      "display_name": "Python 3",
      "name": "python3"
    },
    "language_info": {
      "codemirror_mode": {
        "name": "ipython",
        "version": 3
      },
      "file_extension": ".py",
      "mimetype": "text/x-python",
      "name": "python",
      "nbconvert_exporter": "python",
      "pygments_lexer": "ipython3",
      "version": "3.11.1"
    }
  },
  "nbformat": 4,
  "nbformat_minor": 0
}
