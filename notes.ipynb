{
 "cells": [
  {
   "cell_type": "code",
   "execution_count": null,
   "metadata": {},
   "outputs": [],
   "source": [
    "#linked list - can insert in the middle / constant insertion time, no need to shift all items like in an array, dynamic memory usage, fairly small overhead\n",
    "#twos complemenent - equal ranges, pos and neg, with 0 as pos. One representation of 0, negation through flip and add 1, and arithmetic can be done with pos and neg in \n",
    "#the same way / same circuits\n",
    "#Random Access Property - Inherently Good, Depends on how its implemented. In an array, it may be done with contiguous memory and we calculate the size/\n",
    "#Where the 'random' access will be, on the basis of consistent index sizes. Or, something like Binary Search Trees with O(logn) search time\n",
    "# int ptr* = (int *)malloc(size) = Dynamically allocates memory of size 'size', returning a void pointer. Casting this pointer to int, \n",
    "# we assign this memory pointer (allocated on the heap) to a static, small size int 'ptr' on the stack.\n",
    "#Stack vs Heap - Stack stores function execution details, parameters, returns, static-size variables. Heap stores dynamic, runtime-assigned variables \n"
   ]
  }
 ],
 "metadata": {
  "language_info": {
   "name": "python"
  }
 },
 "nbformat": 4,
 "nbformat_minor": 2
}
