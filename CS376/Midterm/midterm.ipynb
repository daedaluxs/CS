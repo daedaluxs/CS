{
 "cells": [
  {
   "cell_type": "code",
   "execution_count": 27,
   "metadata": {},
   "outputs": [],
   "source": [
    "cipherstring= list(\"NOATRBECFUXDQGYLKHVIJMPZSW\")\n",
    "plainstring = list(\"abcdefghijklmnopqrstuvwxyz\")"
   ]
  },
  {
   "cell_type": "code",
   "execution_count": 28,
   "metadata": {},
   "outputs": [
    {
     "name": "stdout",
     "output_type": "stream",
     "text": [
      "ICFV QRVVNER FV RNVS IY RGAHSLI OJI CNHT IY BFGT ICR XRS\n"
     ]
    }
   ],
   "source": [
    "decodestring = \"this message is easy to encrypt but hard to find the key\"\n",
    "output = \"\"\n",
    "for char in decodestring:\n",
    "    if char != \" \":\n",
    "        output+=cipherstring[plainstring.index(char)]\n",
    "    else:\n",
    "        output+=\" \"\n",
    "print(output)"
   ]
  }
 ],
 "metadata": {
  "kernelspec": {
   "display_name": "Python 3",
   "language": "python",
   "name": "python3"
  },
  "language_info": {
   "codemirror_mode": {
    "name": "ipython",
    "version": 3
   },
   "file_extension": ".py",
   "mimetype": "text/x-python",
   "name": "python",
   "nbconvert_exporter": "python",
   "pygments_lexer": "ipython3",
   "version": "3.11.1"
  }
 },
 "nbformat": 4,
 "nbformat_minor": 2
}
