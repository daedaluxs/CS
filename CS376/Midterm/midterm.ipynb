{
 "cells": [
  {
   "cell_type": "code",
   "execution_count": 27,
   "metadata": {},
   "outputs": [],
   "source": [
    "cipherstring= list(\"NOATRBECFUXDQGYLKHVIJMPZSW\")\n",
    "plainstring = list(\"abcdefghijklmnopqrstuvwxyz\")"
   ]
  },
  {
   "cell_type": "code",
   "execution_count": 32,
   "metadata": {},
   "outputs": [],
   "source": [
    "import math\n",
    "import random"
   ]
  },
  {
   "cell_type": "code",
   "execution_count": 28,
   "metadata": {},
   "outputs": [
    {
     "name": "stdout",
     "output_type": "stream",
     "text": [
      "ICFV QRVVNER FV RNVS IY RGAHSLI OJI CNHT IY BFGT ICR XRS\n"
     ]
    }
   ],
   "source": [
    "decodestring = \"this message is easy to encrypt but hard to find the key\"\n",
    "output = \"\"\n",
    "for char in decodestring:\n",
    "    if char != \" \":\n",
    "        output+=cipherstring[plainstring.index(char)]\n",
    "    else:\n",
    "        output+=\" \"\n",
    "print(output)"
   ]
  },
  {
   "cell_type": "code",
   "execution_count": 37,
   "metadata": {},
   "outputs": [
    {
     "data": {
      "text/plain": [
       "[16,\n",
       " 53,\n",
       " 61,\n",
       " 66,\n",
       " 94,\n",
       " 31,\n",
       " 65,\n",
       " 64,\n",
       " 61,\n",
       " 47,\n",
       " 57,\n",
       " 45,\n",
       " 92,\n",
       " 55,\n",
       " 85,\n",
       " 91,\n",
       " 60,\n",
       " 79,\n",
       " 38,\n",
       " 93,\n",
       " 87,\n",
       " 89,\n",
       " 18,\n",
       " 60,\n",
       " 100,\n",
       " 60,\n",
       " 98,\n",
       " 68,\n",
       " 79,\n",
       " 4,\n",
       " 74,\n",
       " 34,\n",
       " 40,\n",
       " 64,\n",
       " 60,\n",
       " 81,\n",
       " 83,\n",
       " 86,\n",
       " 98,\n",
       " 12,\n",
       " 7,\n",
       " 89,\n",
       " 75,\n",
       " 77,\n",
       " 45,\n",
       " 65,\n",
       " 47,\n",
       " 8,\n",
       " 39,\n",
       " 6,\n",
       " 73,\n",
       " 2,\n",
       " 46,\n",
       " 82,\n",
       " 83,\n",
       " 12,\n",
       " 70,\n",
       " 14,\n",
       " 52,\n",
       " 52,\n",
       " 83,\n",
       " 26,\n",
       " 79,\n",
       " 84,\n",
       " 39,\n",
       " 11,\n",
       " 47,\n",
       " 98,\n",
       " 56,\n",
       " 8,\n",
       " 44,\n",
       " 36,\n",
       " 50,\n",
       " 2,\n",
       " 25,\n",
       " 33,\n",
       " 3,\n",
       " 83,\n",
       " 17,\n",
       " 81,\n",
       " 34,\n",
       " 27,\n",
       " 86,\n",
       " 56,\n",
       " 87,\n",
       " 42,\n",
       " 77,\n",
       " 101,\n",
       " 79,\n",
       " 69,\n",
       " 86,\n",
       " 96,\n",
       " 53,\n",
       " 99,\n",
       " 0,\n",
       " 35,\n",
       " 88,\n",
       " 11,\n",
       " 46,\n",
       " 16,\n",
       " 6]"
      ]
     },
     "execution_count": 37,
     "metadata": {},
     "output_type": "execute_result"
    }
   ],
   "source": [
    "# numbers = [x for x in range(random.randint(0,101))]\n",
    "numbers = []\n",
    "\n",
    "for x in range(101):\n",
    "    numbers.append(random.randint(0,101))\n",
    "numbers"
   ]
  }
 ],
 "metadata": {
  "kernelspec": {
   "display_name": "Python 3",
   "language": "python",
   "name": "python3"
  },
  "language_info": {
   "codemirror_mode": {
    "name": "ipython",
    "version": 3
   },
   "file_extension": ".py",
   "mimetype": "text/x-python",
   "name": "python",
   "nbconvert_exporter": "python",
   "pygments_lexer": "ipython3",
   "version": "3.11.1"
  }
 },
 "nbformat": 4,
 "nbformat_minor": 2
}
