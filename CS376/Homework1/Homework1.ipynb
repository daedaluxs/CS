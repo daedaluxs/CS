{
 "cells": [
  {
   "cell_type": "markdown",
   "metadata": {},
   "source": [
    "## 1\n",
    "Apple M-Series Processors Exploit\n",
    "Main Vulnerability : Covert channel vulnerability -  A flaw in the design of Apple's Silicon M-Series (for remainder reference here M1) chips allows any two applications running under an OS to covertly exchange data between them, without using memory, sockets, files, or any normal OS features.\n",
    "This is achieved through read/write access to an ARM system register.\n",
    "\n",
    "Violated security principles : Apple broke ARM specifications, removing a mandatory f eature, leading to this vulnerability. This vulnerability is 'baked into the silicon' -- its a problem with the M1's architecture itself, meaning it is unfixable via software. This could have been prevent by following ARM specifications.\n",
    "\n",
    "--More Modern Vulnerability, on the same vein as the previous--\n",
    "\n",
    "Called 'iLeakage', a Speculative Execution exploit, is a vulnerability on Apple which allows web browser tabs to view all entered and cached data on the L1 cache, notably after directing to another website meaning passwords can be read by unintended actors. \n",
    "I include this simply as it is another problem with Apple's A and M-series CPU's, which problems arose for the same reasons as the last exploit. \n",
    "This vulnerability is reported to have been mitigated on 01/10/2024 by Apple"
   ]
  },
  {
   "cell_type": "markdown",
   "metadata": {},
   "source": [
    "## 2\n",
    "We first pre-cipher a large number of plaintexts. This is the dictionary.\n",
    "\n",
    "We then use this dictionary to quickly compare the targeted cipher against our pre-cyphered plaintexts. cypher matches yeild the plaintext."
   ]
  },
  {
   "cell_type": "code",
   "execution_count": null,
   "metadata": {},
   "outputs": [],
   "source": [
    "def generate_dictionary():\n",
    "    dictionary = []\n",
    "    # Iterate over a set of possible plaintexts\n",
    "    for plaintext in set_of_possible_plaintexts:\n",
    "        # Encrypt the plaintext using a known key\n",
    "        ciphertext = DES_encrypt(plaintext, known_key)\n",
    "        # Add the plaintext-ciphertext pair to the dictionary\n",
    "        dictionary.append((plaintext, ciphertext))\n",
    "    return dictionary\n",
    "\n",
    "def recover_key(ciphertext, dictionary):\n",
    "    # Iterate through the dictionary\n",
    "    for entry in dictionary:\n",
    "        plaintext, known_ciphertext = entry\n",
    "        # Check if the known ciphertext matches the provided ciphertext\n",
    "        if known_ciphertext == ciphertext:\n",
    "            # If a match is found, return the corresponding plaintext\n",
    "            return plaintext\n",
    "    # If no match is found, return None\n",
    "    return None"
   ]
  },
  {
   "cell_type": "markdown",
   "metadata": {},
   "source": [
    "## 3\n",
    "for key lengths of 56,80,112,128 bits @ 2^32 keys per second\n",
    "\n",
    "56 ... key length equals 2^56, / 2^32 equals 2^56-32 or 2^24\n",
    "\n",
    "80-32 = 48 | 112-32 = 80 | 128-32 = 96\n",
    "\n",
    "( . . . Months are not same length . . . )\n",
    "\n",
    "2^24 seconds. /60(min)/60(hour)/24(day)/365(year) = 194 days, 4 hours, 20 mins\n",
    "\n",
    "2^48 seconds = 8,925,512 years, 350 days, 10 hours, 44 mins\n",
    "\n",
    "2^80 seconds =  383347862637820 centuries, 262 days, 19 hours, 16 mins\n",
    "\n",
    "2^96 seconds =  25123085525832171991 centuries, 86 years, 164 days, 23 hours, 32 mins\n"
   ]
  },
  {
   "cell_type": "code",
   "execution_count": 29,
   "metadata": {},
   "outputs": [],
   "source": [
    "import math\n",
    "from decimal import *\n",
    "# Numbers too large. Precision being lost past 2^48"
   ]
  },
  {
   "cell_type": "code",
   "execution_count": 35,
   "metadata": {},
   "outputs": [],
   "source": [
    "def timefinder(base):\n",
    "    print(f\"-=-=-{base}-=-=-\")\n",
    "    base = Decimal(2 ** base)\n",
    "    base = Decimal(((((base /60)/60)/24)/365)/100)\n",
    "    print('centuries', Decimal(base // 1))\n",
    "    base = Decimal(base - math.floor(base))\n",
    "    base = Decimal(base * 100)\n",
    "    print('years', Decimal(base // 1))\n",
    "    base = Decimal(base - math.floor(base))\n",
    "    base = Decimal(base * 365)\n",
    "    print('days', Decimal(base // 1))\n",
    "    base = Decimal(base - math.floor(base))\n",
    "    base = Decimal(base * 24)\n",
    "    print('hours', Decimal(base // 1))\n",
    "    base = Decimal(base - math.floor(base))\n",
    "    base = Decimal(base * 60)\n",
    "    print('mins', Decimal(base // 1))"
   ]
  },
  {
   "cell_type": "code",
   "execution_count": 36,
   "metadata": {},
   "outputs": [
    {
     "name": "stdout",
     "output_type": "stream",
     "text": [
      "-=-=-24-=-=-\n",
      "centuries 0\n",
      "years 0\n",
      "days 194\n",
      "hours 4\n",
      "mins 20\n",
      "-=-=-48-=-=-\n",
      "centuries 89255\n",
      "years 12\n",
      "days 350\n",
      "hours 10\n",
      "mins 44\n",
      "-=-=-80-=-=-\n",
      "centuries 383347862637820\n",
      "years 0\n",
      "days 262\n",
      "hours 19\n",
      "mins 16\n",
      "-=-=-96-=-=-\n",
      "centuries 25123085525832171991\n",
      "years 86\n",
      "days 164\n",
      "hours 23\n",
      "mins 32\n"
     ]
    }
   ],
   "source": [
    "timefinder(24)\n",
    "timefinder(48)\n",
    "timefinder(80)\n",
    "timefinder(96)"
   ]
  },
  {
   "cell_type": "markdown",
   "metadata": {},
   "source": [
    "## 4\n",
    "\n"
   ]
  }
 ],
 "metadata": {
  "kernelspec": {
   "display_name": "Python 3",
   "language": "python",
   "name": "python3"
  },
  "language_info": {
   "codemirror_mode": {
    "name": "ipython",
    "version": 3
   },
   "file_extension": ".py",
   "mimetype": "text/x-python",
   "name": "python",
   "nbconvert_exporter": "python",
   "pygments_lexer": "ipython3",
   "version": "3.11.1"
  }
 },
 "nbformat": 4,
 "nbformat_minor": 2
}
