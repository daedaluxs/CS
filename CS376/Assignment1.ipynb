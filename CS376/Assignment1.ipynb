{
 "cells": [
  {
   "cell_type": "code",
   "execution_count": 317,
   "metadata": {},
   "outputs": [],
   "source": [
    "#Taking User input / Getting the key and text\n",
    "#You will be prompted twice. Enter key, then plaintext.\n",
    "\n",
    "key = input()\n",
    "# key = \"Monarrachy\"\n",
    "plaintext = input()\n",
    "# plaintext = \"kimlxatlboqznmit\"\n",
    "\n",
    "#1 = Encrypt, -1 = Decrypt\n",
    "mode = -1"
   ]
  },
  {
   "cell_type": "code",
   "execution_count": 318,
   "metadata": {},
   "outputs": [
    {
     "name": "stdout",
     "output_type": "stream",
     "text": [
      "kimlxatlboqznmit\n"
     ]
    }
   ],
   "source": [
    "#Formatting / processing plaintext\n",
    "used = ''\n",
    "letters = 'abcdefghiklmnopqrstuvwxyz'\n",
    "key = key.lower().replace('j','i').replace(' ','')\n",
    "plaintext = plaintext.lower().replace('j','i').replace(' ','')\n",
    "pair = False\n",
    "\n",
    "\n",
    "for x in range(len(plaintext)):\n",
    "    if pair and plaintext[x] == plaintext[x-1]:\n",
    "        plaintext = plaintext[:x] + 'x' + plaintext[x:]\n",
    "    pair = not pair\n",
    "if len(plaintext) % 2 == 1:\n",
    "    plaintext += 'z'\n",
    "print(plaintext)\n"
   ]
  },
  {
   "cell_type": "code",
   "execution_count": 319,
   "metadata": {},
   "outputs": [
    {
     "name": "stdout",
     "output_type": "stream",
     "text": [
      "['m', 'o', 'n', 'a', 'r']\n",
      "['c', 'h', 'y', 'b', 'd']\n",
      "['e', 'f', 'g', 'i', 'k']\n",
      "['l', 'p', 'q', 's', 't']\n",
      "['u', 'v', 'w', 'x', 'z']\n"
     ]
    }
   ],
   "source": [
    "#Creating the 5x5 square\n",
    "import math\n",
    "index = 0\n",
    "w, h = 5, 5\n",
    "\n",
    "square = [[0 for x in range(w)] for y in range(h)]\n",
    "#Key Letters\n",
    "for letter in key:\n",
    "    if letter not in used:\n",
    "        square[int(math.floor(index/5))][int(index%5)] = letter\n",
    "        used += letter\n",
    "        index +=1\n",
    "#Remaining Letters in Alphabet\n",
    "for letter in letters:\n",
    "    if letter not in used:\n",
    "        square[int(math.floor(index/5))][int(index%5)] = letter\n",
    "        used += letter\n",
    "        index +=1\n",
    "\n",
    "#Just so it prints in a square\n",
    "print(square[0])\n",
    "print(square[1])\n",
    "print(square[2])\n",
    "print(square[3])\n",
    "print(square[4])"
   ]
  },
  {
   "cell_type": "code",
   "execution_count": 320,
   "metadata": {},
   "outputs": [
    {
     "name": "stdout",
     "output_type": "stream",
     "text": [
      "before : kimlxatlboqznmit\n",
      "Decrypted : iguesxsthatworks\n"
     ]
    }
   ],
   "source": [
    "#Get row and column of letter in Square\n",
    "def get_r_c(letter):\n",
    "    for x in range(25):\n",
    "        if square[int(math.floor(x/5))][int(x%5)] == letter:\n",
    "            return int(math.floor(x/5)),int(x%5)\n",
    "\n",
    "#Checking if letter is at final row/col, returning the new letter\n",
    "def wrap_check_resolve(r,c,updown,dir):\n",
    "    if updown:\n",
    "        if r == 4 and dir == 1:\n",
    "            return square[0][c]\n",
    "        if r == 0 and dir == -1:\n",
    "            return square[4][c]\n",
    "        return square[r+dir][c]\n",
    "\n",
    "    else:\n",
    "        if c == 4 and dir == 1:\n",
    "            return square[r][0]\n",
    "        if c == 0 and dir == -1:\n",
    "            return square[r][4]\n",
    "        return square[r][c+dir]\n",
    "\n",
    "# Checking what 'formation' the letter pair is in\n",
    "def identify_formation(first,second,dir):\n",
    "    first = get_r_c(first)\n",
    "    second = get_r_c(second)\n",
    "    if first[1] == second[1]:\n",
    "        return wrap_check_resolve(first[0],first[1],True,dir),wrap_check_resolve(second[0],second[1],True,dir)\n",
    "    elif first[0] == second[0]:\n",
    "        return wrap_check_resolve(first[0],first[1],False,dir),wrap_check_resolve(second[0],second[1],False,dir)\n",
    "    return square[first[0]][second[1]],square[second[0]][first[1]]\n",
    "\n",
    "\n",
    "# print(identify_formation('t','z',1))\n",
    "print('before : ' + plaintext)\n",
    "\n",
    "finaltext = ''\n",
    "last = plaintext[0]\n",
    "pair = False\n",
    "for letter in plaintext:\n",
    "    if pair:\n",
    "        new = identify_formation(last,letter,mode)\n",
    "        finaltext += new[0]\n",
    "        finaltext += new[1]\n",
    "    last = letter\n",
    "    pair = not pair\n",
    "    \n",
    "if mode == 1:\n",
    "    print('Encrypted : '+finaltext)\n",
    "else:\n",
    "    print('Decrypted : '+finaltext)\n",
    "\n"
   ]
  }
 ],
 "metadata": {
  "kernelspec": {
   "display_name": "Python 3",
   "language": "python",
   "name": "python3"
  },
  "language_info": {
   "codemirror_mode": {
    "name": "ipython",
    "version": 3
   },
   "file_extension": ".py",
   "mimetype": "text/x-python",
   "name": "python",
   "nbconvert_exporter": "python",
   "pygments_lexer": "ipython3",
   "version": "3.11.1"
  },
  "orig_nbformat": 4
 },
 "nbformat": 4,
 "nbformat_minor": 2
}
