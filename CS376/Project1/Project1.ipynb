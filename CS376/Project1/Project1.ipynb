{
 "cells": [
  {
   "cell_type": "code",
   "execution_count": 64,
   "metadata": {},
   "outputs": [],
   "source": [
    "from cryptography.hazmat.primitives.ciphers import Cipher, algorithms, modes\n",
    "from cryptography.hazmat.backends import default_backend\n",
    "from cryptography.hazmat.primitives import padding as sym_padding\n",
    "import os\n",
    "import time\n",
    "from Crypto.Cipher import DES\n",
    "from Crypto.Cipher import DES3\n",
    "from Crypto.Cipher import ARC4\n",
    "from Crypto.Cipher import PKCS1_OAEP\n",
    "from Crypto.PublicKey import RSA "
   ]
  },
  {
   "cell_type": "code",
   "execution_count": 65,
   "metadata": {},
   "outputs": [],
   "source": [
    "def AES_encrypt(plaintext):\n",
    "\n",
    "    # Starting time of encrpytion\n",
    "    start_time = time.time()\n",
    "\n",
    "    # Generate a random 128-bit key\n",
    "    key = os.urandom(16)\n",
    "    # Generate a random IV (Initialization Vector)\n",
    "    iv = os.urandom(16)\n",
    "\n",
    "    # Apply PKCS7 padding to plaintext\n",
    "    padder = sym_padding.PKCS7(algorithms.AES.block_size).padder()\n",
    "    padded_plaintext = padder.update(plaintext) + padder.finalize()\n",
    "\n",
    "    # Create AES cipher object\n",
    "    cipher = Cipher(algorithms.AES(key), modes.CFB(iv), backend=default_backend())\n",
    "    encryptor = cipher.encryptor()\n",
    "\n",
    "    # Encrypt the padded plaintext\n",
    "    ciphertext = encryptor.update(padded_plaintext) + encryptor.finalize()\n",
    "\n",
    "    # Ending time of encrpytion\n",
    "    end_time = time.time()\n",
    "\n",
    "    return end_time-start_time"
   ]
  },
  {
   "cell_type": "code",
   "execution_count": 66,
   "metadata": {},
   "outputs": [],
   "source": [
    "def DES_encrypt(plaintext):\n",
    "\n",
    "    key = b'superkey'\n",
    "    # Starting time of encrpytion\n",
    "    start_time = time.time()\n",
    "\n",
    "    padding_length = 8 - len(plaintext) % 8\n",
    "    padded_message = plaintext + bytes([padding_length] * padding_length)\n",
    "\n",
    "    # Generate a random IV (Initialization Vector)\n",
    "    iv = os.urandom(8)\n",
    "\n",
    "    # Create a DES cipher object\n",
    "    cipher = DES.new(key, DES.MODE_CBC, iv)\n",
    "\n",
    "    # Encrypt the message\n",
    "    ciphertext = cipher.encrypt(padded_message)\n",
    "\n",
    "\n",
    "    # Ending time of encrpytion\n",
    "    end_time = time.time()\n",
    "\n",
    "    return end_time-start_time"
   ]
  },
  {
   "cell_type": "code",
   "execution_count": 67,
   "metadata": {},
   "outputs": [],
   "source": [
    "def THREEDES_encrypt(plaintext):\n",
    "\n",
    "    key = os.urandom(24)\n",
    "    # Starting time of encrpytion\n",
    "    start_time = time.time()\n",
    "\n",
    "    padding_length = 8 - len(plaintext) % 8\n",
    "    padded_message = plaintext + bytes([padding_length] * padding_length)\n",
    "\n",
    "    # Generate a random IV (Initialization Vector)\n",
    "    iv = os.urandom(8)\n",
    "\n",
    "    # Create a DES cipher object\n",
    "    cipher = DES3.new(key, DES3.MODE_CBC, iv)\n",
    "\n",
    "    # Encrypt the message\n",
    "    ciphertext = cipher.encrypt(padded_message)\n",
    "\n",
    "\n",
    "    # Ending time of encrpytion\n",
    "    end_time = time.time()\n",
    "\n",
    "    return end_time-start_time"
   ]
  },
  {
   "cell_type": "code",
   "execution_count": 68,
   "metadata": {},
   "outputs": [],
   "source": [
    "def RC4_encrypt(plaintext):\n",
    "\n",
    "    # Starting time of encrpytion\n",
    "    start_time = time.time()\n",
    "    key = os.urandom(16)\n",
    "    cipher = ARC4.new(key)\n",
    "\n",
    "    # Encrypt the message\n",
    "    ciphertext = cipher.encrypt(plaintext)\n",
    "\n",
    "\n",
    "    # Ending time of encrpytion\n",
    "    end_time = time.time()\n",
    "\n",
    "    return end_time-start_time"
   ]
  },
  {
   "cell_type": "code",
   "execution_count": 69,
   "metadata": {},
   "outputs": [],
   "source": [
    "def RSA_encrypt(public_key, plaintext):\n",
    "    start_time = time.time()\n",
    "\n",
    "    rsa_cipher = PKCS1_OAEP.new(public_key)\n",
    "    cipher = rsa_cipher.encrypt(plaintext)\n",
    "   \n",
    "    end_time = time.time()\n",
    "\n",
    "    return end_time-start_time"
   ]
  },
  {
   "cell_type": "code",
   "execution_count": 90,
   "metadata": {},
   "outputs": [
    {
     "name": "stdout",
     "output_type": "stream",
     "text": [
      "DES - 0.0168915 seconds average\n",
      "3DES - 0.0456456 seconds average\n",
      "AES - 0.0024431 seconds average\n",
      "RC4 - 0.0029048 seconds average\n"
     ]
    }
   ],
   "source": [
    "avg = []\n",
    "for x in range(5):\n",
    "    avg.append(0)\n",
    "\n",
    "with open('to_encrypt.txt', 'rb') as f:\n",
    "    plaintext = f.read()\n",
    "\n",
    "for x in range(100):\n",
    "    avg[1] += DES_encrypt(plaintext)\n",
    "    time.sleep(0.01)\n",
    "print('DES -',round(avg[1]/100,7),'seconds average')\n",
    "\n",
    "for x in range(100):\n",
    "    avg[2] += THREEDES_encrypt(plaintext)\n",
    "    time.sleep(0.01)\n",
    "print('3DES -',round(avg[2]/100,7),'seconds average')\n",
    "\n",
    "for x in range(100):\n",
    "    avg[0] += AES_encrypt(plaintext)\n",
    "    time.sleep(0.01)\n",
    "print('AES -',round(avg[0]/100,7),'seconds average')\n",
    "\n",
    "for x in range(100):\n",
    "    avg[3] += RC4_encrypt(plaintext)\n",
    "    time.sleep(0.01)\n",
    "print('RC4 -',round(avg[3]/100,7),'seconds average')\n"
   ]
  },
  {
   "cell_type": "code",
   "execution_count": 100,
   "metadata": {},
   "outputs": [
    {
     "name": "stdout",
     "output_type": "stream",
     "text": [
      "RSA - 0.0615229 seconds adjusted average\n"
     ]
    }
   ],
   "source": [
    "keypair = RSA.generate(2048)\n",
    "avg[4]=0\n",
    "with open('rsae.txt', 'rb') as f:\n",
    "    rsae = f.read()\n",
    "#Normal Plaintext is too long for RSA 1024\n",
    "for x in range(100):\n",
    "    avg[4] += RSA_encrypt(keypair.publickey(), rsae)\n",
    "    time.sleep(0.01)\n",
    "print('RSA -',round((avg[4]/100)*6320,7),'seconds adjusted average')\n"
   ]
  },
  {
   "cell_type": "code",
   "execution_count": 101,
   "metadata": {},
   "outputs": [],
   "source": [
    "#Adjusting for graph\n",
    "avg[0] = avg[0]/100\n",
    "avg[1] = avg[1]/100\n",
    "avg[2] = avg[2]/100\n",
    "avg[3] = avg[3]/100\n",
    "avg[4] = (avg[4]/100)*6320"
   ]
  },
  {
   "cell_type": "markdown",
   "metadata": {},
   "source": [
    "# All Algorithms times - \n",
    "\n",
    "Averaged over 100 runs.\n",
    "\n",
    "DES - 0.0168915 seconds\n",
    "\n",
    "3DES - 0.0456456 seconds\n",
    "\n",
    "AES - 0.0024431 seconds\n",
    "\n",
    "RC4 - 0.0029048 seconds\n",
    "\n",
    "RSA - 0.0615229 seconds adjusted"
   ]
  },
  {
   "cell_type": "code",
   "execution_count": 107,
   "metadata": {},
   "outputs": [
    {
     "data": {
      "image/png": "[encoded data removed]",
      "text/plain": [
       "<Figure size 640x480 with 1 Axes>"
      ]
     },
     "metadata": {},
     "output_type": "display_data"
    }
   ],
   "source": [
    "import matplotlib.pyplot as plt\n",
    "\n",
    "plt.bar(['AES','DES','3DES','RC4','RSA'], avg)\n",
    "plt.xlabel('Algorithm')\n",
    "plt.ylabel('Seconds / Encrypt')\n",
    "plt.title('Speed Chart')\n",
    "plt.show()"
   ]
  },
  {
   "cell_type": "markdown",
   "metadata": {},
   "source": [
    "Firstly, AES was run with a more performant library, likely giving it a slight uplift.\n",
    "\n",
    "Secondly, this is not a highly controlled environment, with variations due to other system processes.\n",
    "\n",
    "AES is made to be fast and secure, operating on fixed-size blocks with simple substituions, permutations, and XOR. \n",
    "\n",
    "RC4 is very fast, but has security vulnerabilities in its key scheduling algorithm. It is fast for being simple like AES in XOR operations on a pseudorandom key.\n",
    "\n",
    "DES and 3DES are blocks ciphers, being slower than AES due to their smaller block sizes, resulting in more overhead in padding and less possible parallelism.\n",
    "\n",
    "3DES is notably slower than DES due to just applying DES multiple times, in many rounds. Key expansion for use across the rounds is also slow.\n",
    "\n",
    "RSA is much slower due to involving complex mathematical operations, such as modualar exponentiation, which is slower than simple XOR operations.\n"
   ]
  }
 ],
 "metadata": {
  "kernelspec": {
   "display_name": "Python 3",
   "language": "python",
   "name": "python3"
  },
  "language_info": {
   "codemirror_mode": {
    "name": "ipython",
    "version": 3
   },
   "file_extension": ".py",
   "mimetype": "text/x-python",
   "name": "python",
   "nbconvert_exporter": "python",
   "pygments_lexer": "ipython3",
   "version": "3.10.0"
  }
 },
 "nbformat": 4,
 "nbformat_minor": 2
}
