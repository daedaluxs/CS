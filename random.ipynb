{
 "cells": [
  {
   "cell_type": "code",
   "execution_count": 8,
   "metadata": {},
   "outputs": [],
   "source": [
    "import chardet"
   ]
  },
  {
   "cell_type": "code",
   "execution_count": 16,
   "metadata": {},
   "outputs": [
    {
     "name": "stdout",
     "output_type": "stream",
     "text": [
      "Failed to decode using utf-8\n",
      "Decoded using latin-1: \u0000\u0000\u0002l\u0005\u0001\u0000àr\u001eû0\u000b{eÝ-[t/ÕT\u001d2\u0001cÞÄCý\u0003\u000fä\tì\u0007V¬è\u000eÌñTfñ\u0015mfªµD \u0004ø%£zy\f§çú\u0019#_úÕðÐ7%ÒåPnu4ümYìÎY\u0002\u0016zQ\u0017\f¿<Æà-\u000föYañ\u0019]Í\u000bèiÛcwNÐÏW\u0011\u0016\u0001¶ïÛ1ß+\u001c\u0006\u00114yT¬e\u0014?J\n",
      "\u0013t\u001c¾g:Û`àÍY®cd\u001en×¥:ÎsÑÎCy\u001e\u001bÃ¦jFøÓß¡\u0012D\u0001\u0017êü9é¢#sÿ\u001dØ+AÀ2oì¨ZZö3ÀÀÒ@¾\u0011|w+\u0013\u0000äCl#\u0012\u0015\u000bÊw­\u001bZ=\u0001-§6Gj\n",
      "¦û]Æ3\u0019NÐæSI%\u0002\u0017¢ýªl&èô¢¯I°Ì\u0003h­È¿\u001cNUèzÍÇ\u0016ò'ÁÏ×lPð=+;®é÷PN\u0001Yëcû]sl\u0014ç8W=ÚP§?ÀÊ÷;Ä-\\\u0012\"HßÞA\u000búl.ÞÛì'|uæ<i\u0015¾\u001b¢á\u001fÖT*\u0004v\u001d\u0016â^I­{j\u0015\u0004O\u0013\"I\n",
      "ø)<ñÌéJ\u0013¶ÿrÒc%×£ú@îc5:SéÆ¨QÛ·8ÚõÐ\t\u001bfØ\u001eXò!§\u0001éòL\u001dÀ¼*c'±Ñ½Ñ\u0001ð\u0019Öò'OQ¨m:\u0018âé\u0012ü\u000f4ý(byehëÌ¹ï{«#>2!ët^\u0004`_ÏR'Þ\u000eó\u0003_U{Ê\n",
      "\u0005\u0006\u0000>¹9/ÐÜ?|3Rts\u000e|óýyT£m\fòFòÝ¢¯OÑÑið\u0000\u0000\u0000\n",
      "Failed to decode using utf-16\n",
      "Failed to decode using utf-32\n"
     ]
    }
   ],
   "source": [
    "hex_string = \"00 00 02 6c 05 01 00 e0 90 72 1e 8b fb 30 97 0b 7b 65 dd 86 2d 5b 7f 74 2f 96 d5 54 1d 32 01 63 de c4 8b 43 fd 03 0f e4 09 ec 07 94 56 ac e8 0e cc 85 f1 54 66 f1 15 6d 66 aa b5 85 44 a0 04 f8 25 a3 7a 79 0c a7 e7 fa 19 23 5f fa d5 8e 85 f0 95 d0 37 25 d2 e5 50 6e 75 34 90 fc 6d 59 ec ce 9b 59 02 16 7a 51 17 0c 9e 9b 99 bf 3c c6 e0 2d 81 0f f6 8c 59 7f 61 8e 91 f1 88 19 9e 5d cd 0b e8 69 9a db 63 77 4e 9a d0 cf 57 11 92 16 01 b6 ef 83 db 31 df 8f 2b 1c 06 11 34 79 54 91 ac 9c 65 14 3f 4a 0a 82 13 98 8b 74 1c be 67 3a db 60 e0 cd 59 ae 94 63 c4 08 64 1e 6e d7 a5 3a 9e ce 73 d1 88 ce 43 79 1e 1b c3 8d a6 6a 46 f8 9c d3 df a1 12 44 01 17 ea fc 39 e9 a2 23 73 ff 97 1d d8 95 2b 41 c0 32 6f ec a8 5a 5a f6 33 c0 c0 d2 40 be 11 7c 77 87 2b 13 00 9f e4 8c 80 43 6c 23 12 15 0b ca 77 ad 89 1b 5a 9c 85 3d 01 92 2d a7 36 47 6a 0a 10 72 77 de 0d a6 fb 5d c6 33 19 4e d0 e6 53 49 25 02 17 92 a2 fd aa 99 6c 26 e8 f4 a2 af 49 b0 93 cc 03 68 93 96 ad c8 bf 1c 83 4e 55 e8 7a cd c7 16 f2 27 c1 cf d7 6c 50 f0 93 3d 99 2b 3b ae e9 f7 50 4e 9d 01 86 59 eb 63 fb 5d 73 6c 14 e7 38 57 3d da 90 50 99 a7 3f c0 ca f7 3b 83 c4 99 2d 81 5c 96 12 22 48 90 df de 91 41 0b fa 6c 2e de db ec 27 7c 82 75 e6 3c 69 15 be 1b a2 e1 1f d6 54 2a 04 76 1d 16 e2 5e 49 ad 84 7b 6a 15 93 04 4f 13 80 22 49 0a 74 29 3c f1 cc e9 4a 13 b6 ff 9c 72 8f d2 63 25 d7 a3 fa 40 ee 63 35 3a 53 e9 c6 a8 51 db b7 38 83 96 da 96 f5 d0 09 1b 66 d8 1e 58 f2 21 98 a7 01 e9 f2 4c 1d c0 bc 2a 63 27 b1 84 d1 bd d1 01 f0 19 d6 f2 27 4f 51 a8 6d 3a 8b 18 e2 e9 12 fc 0f 34 fd 28 85 62 79 65 68 eb cc b9 ef 83 7b ab 23 3e 32 21 9f eb 74 5e 04 98 93 60 5f 93 91 cf 52 27 de 0e f3 03 5f 55 7b ca 0d f8 0a 1e a2 aa 9a 6c 26 e8 f4 5a 94 46 84 6f 4d ca ee 18 13 21 5f 55 33 ad 75 cc bc 41 56 0f b5 ee 0d f0 e7 5d 4c 41 17 94 07 1f 2b c2 3a fb 33 52 74 73 0e 7c f3 fd 9d 79 54 a3 6d 0c f2 94 46 f2 dd a2 af 96 4f d1 d1 69 f0 00 00 00 0d 05 06 00 3e b9 39 8b 2f 88 d0 dc 3f 7c\"\n",
    "hex_string = hex_string.strip()\n",
    "# Convert hexadecimal string to bytes\n",
    "binary_data = bytes.fromhex(hex_string)\n",
    "\n",
    "\n",
    "encodings_to_try = ['utf-8', 'latin-1', 'utf-16', 'utf-32']\n",
    "\n",
    "# Try decoding with different encodings\n",
    "for encoding in encodings_to_try:\n",
    "    try:\n",
    "        text = binary_data.decode(encoding)\n",
    "        print(f\"Decoded using {encoding}: {text}\")\n",
    "    except UnicodeDecodeError:\n",
    "        print(f\"Failed to decode using {encoding}\")\n",
    "\n",
    "\n"
   ]
  },
  {
   "cell_type": "code",
   "execution_count": 14,
   "metadata": {},
   "outputs": [
    {
     "name": "stdout",
     "output_type": "stream",
     "text": [
      "{'encoding': None, 'confidence': 0.0, 'language': None}\n"
     ]
    }
   ],
   "source": [
    "\n",
    "# Convert bytes to text\n",
    "detected_encoding = chardet.detect(binary_data)\n",
    "print(detected_encoding)"
   ]
  }
 ],
 "metadata": {
  "kernelspec": {
   "display_name": "Python 3",
   "language": "python",
   "name": "python3"
  },
  "language_info": {
   "codemirror_mode": {
    "name": "ipython",
    "version": 3
   },
   "file_extension": ".py",
   "mimetype": "text/x-python",
   "name": "python",
   "nbconvert_exporter": "python",
   "pygments_lexer": "ipython3",
   "version": "3.11.1"
  }
 },
 "nbformat": 4,
 "nbformat_minor": 2
}
